{
 "cells": [
  {
   "cell_type": "markdown",
   "metadata": {},
   "source": [
    "<img src=\"http://hilpisch.com/tpq_logo.png\" alt=\"The Python Quants\" width=\"35%\" align=\"right\" border=\"0\"><br>"
   ]
  },
  {
   "cell_type": "markdown",
   "metadata": {},
   "source": [
    "# Python for Algorithmic Trading"
   ]
  },
  {
   "cell_type": "markdown",
   "metadata": {},
   "source": [
    "**Chapter 04 &mdash; Vectorized Backtesting**"
   ]
  },
  {
   "cell_type": "code",
   "execution_count": 1,
   "metadata": {},
   "outputs": [],
   "source": [
    "%matplotlib inline\n",
    "import matplotlib.pyplot as plt\n",
    "plt.style.use('seaborn')\n",
    "import matplotlib as mpl\n",
    "mpl.rcParams['font.family'] = 'serif'"
   ]
  },
  {
   "cell_type": "markdown",
   "metadata": {},
   "source": [
    "## Making Use of Vectorization"
   ]
  },
  {
   "cell_type": "markdown",
   "metadata": {},
   "source": [
    "### Vectorization with NumPy "
   ]
  },
  {
   "cell_type": "code",
   "execution_count": 2,
   "metadata": {},
   "outputs": [],
   "source": [
    "v = [1, 2, 3, 4, 5]"
   ]
  },
  {
   "cell_type": "code",
   "execution_count": 3,
   "metadata": {},
   "outputs": [],
   "source": [
    "sm = [2 * i for i in v]"
   ]
  },
  {
   "cell_type": "code",
   "execution_count": 4,
   "metadata": {},
   "outputs": [
    {
     "data": {
      "text/plain": [
       "[2, 4, 6, 8, 10]"
      ]
     },
     "execution_count": 4,
     "metadata": {},
     "output_type": "execute_result"
    }
   ],
   "source": [
    "sm"
   ]
  },
  {
   "cell_type": "code",
   "execution_count": 5,
   "metadata": {},
   "outputs": [
    {
     "data": {
      "text/plain": [
       "[1, 2, 3, 4, 5, 1, 2, 3, 4, 5]"
      ]
     },
     "execution_count": 5,
     "metadata": {},
     "output_type": "execute_result"
    }
   ],
   "source": [
    "2 * v"
   ]
  },
  {
   "cell_type": "code",
   "execution_count": 6,
   "metadata": {},
   "outputs": [],
   "source": [
    "import numpy as np"
   ]
  },
  {
   "cell_type": "code",
   "execution_count": 7,
   "metadata": {},
   "outputs": [],
   "source": [
    "a = np.array(v)"
   ]
  },
  {
   "cell_type": "code",
   "execution_count": 8,
   "metadata": {},
   "outputs": [
    {
     "data": {
      "text/plain": [
       "array([1, 2, 3, 4, 5])"
      ]
     },
     "execution_count": 8,
     "metadata": {},
     "output_type": "execute_result"
    }
   ],
   "source": [
    "a"
   ]
  },
  {
   "cell_type": "code",
   "execution_count": 9,
   "metadata": {},
   "outputs": [
    {
     "data": {
      "text/plain": [
       "numpy.ndarray"
      ]
     },
     "execution_count": 9,
     "metadata": {},
     "output_type": "execute_result"
    }
   ],
   "source": [
    "type(a)"
   ]
  },
  {
   "cell_type": "code",
   "execution_count": 10,
   "metadata": {},
   "outputs": [
    {
     "data": {
      "text/plain": [
       "array([ 2,  4,  6,  8, 10])"
      ]
     },
     "execution_count": 10,
     "metadata": {},
     "output_type": "execute_result"
    }
   ],
   "source": [
    "2 * a "
   ]
  },
  {
   "cell_type": "code",
   "execution_count": 11,
   "metadata": {},
   "outputs": [
    {
     "data": {
      "text/plain": [
       "array([2.5, 3. , 3.5, 4. , 4.5])"
      ]
     },
     "execution_count": 11,
     "metadata": {},
     "output_type": "execute_result"
    }
   ],
   "source": [
    "0.5 * a + 2"
   ]
  },
  {
   "cell_type": "code",
   "execution_count": 12,
   "metadata": {},
   "outputs": [],
   "source": [
    "a = np.arange(12).reshape((4, 3))"
   ]
  },
  {
   "cell_type": "code",
   "execution_count": 13,
   "metadata": {},
   "outputs": [
    {
     "data": {
      "text/plain": [
       "array([[ 0,  1,  2],\n",
       "       [ 3,  4,  5],\n",
       "       [ 6,  7,  8],\n",
       "       [ 9, 10, 11]])"
      ]
     },
     "execution_count": 13,
     "metadata": {},
     "output_type": "execute_result"
    }
   ],
   "source": [
    "a"
   ]
  },
  {
   "cell_type": "code",
   "execution_count": 14,
   "metadata": {},
   "outputs": [
    {
     "data": {
      "text/plain": [
       "array([[ 0,  2,  4],\n",
       "       [ 6,  8, 10],\n",
       "       [12, 14, 16],\n",
       "       [18, 20, 22]])"
      ]
     },
     "execution_count": 14,
     "metadata": {},
     "output_type": "execute_result"
    }
   ],
   "source": [
    "2 * a"
   ]
  },
  {
   "cell_type": "code",
   "execution_count": 15,
   "metadata": {},
   "outputs": [
    {
     "data": {
      "text/plain": [
       "array([[  0,   1,   4],\n",
       "       [  9,  16,  25],\n",
       "       [ 36,  49,  64],\n",
       "       [ 81, 100, 121]])"
      ]
     },
     "execution_count": 15,
     "metadata": {},
     "output_type": "execute_result"
    }
   ],
   "source": [
    "a ** 2"
   ]
  },
  {
   "cell_type": "code",
   "execution_count": 16,
   "metadata": {},
   "outputs": [
    {
     "data": {
      "text/plain": [
       "5.5"
      ]
     },
     "execution_count": 16,
     "metadata": {},
     "output_type": "execute_result"
    }
   ],
   "source": [
    "a.mean()"
   ]
  },
  {
   "cell_type": "code",
   "execution_count": 17,
   "metadata": {},
   "outputs": [
    {
     "data": {
      "text/plain": [
       "5.5"
      ]
     },
     "execution_count": 17,
     "metadata": {},
     "output_type": "execute_result"
    }
   ],
   "source": [
    "np.mean(a)"
   ]
  },
  {
   "cell_type": "code",
   "execution_count": 18,
   "metadata": {},
   "outputs": [
    {
     "data": {
      "text/plain": [
       "array([4.5, 5.5, 6.5])"
      ]
     },
     "execution_count": 18,
     "metadata": {},
     "output_type": "execute_result"
    }
   ],
   "source": [
    "a.mean(axis=0)"
   ]
  },
  {
   "cell_type": "code",
   "execution_count": 19,
   "metadata": {},
   "outputs": [
    {
     "data": {
      "text/plain": [
       "array([ 1.,  4.,  7., 10.])"
      ]
     },
     "execution_count": 19,
     "metadata": {},
     "output_type": "execute_result"
    }
   ],
   "source": [
    "np.mean(a, axis=1)"
   ]
  },
  {
   "cell_type": "markdown",
   "metadata": {},
   "source": [
    "### Vectorization with pandas"
   ]
  },
  {
   "cell_type": "code",
   "execution_count": 20,
   "metadata": {},
   "outputs": [],
   "source": [
    "import numpy as np"
   ]
  },
  {
   "cell_type": "code",
   "execution_count": 21,
   "metadata": {},
   "outputs": [],
   "source": [
    "import pandas as pd"
   ]
  },
  {
   "cell_type": "code",
   "execution_count": 22,
   "metadata": {},
   "outputs": [],
   "source": [
    "a = np.arange(15).reshape(5, 3)"
   ]
  },
  {
   "cell_type": "code",
   "execution_count": 23,
   "metadata": {},
   "outputs": [
    {
     "data": {
      "text/plain": [
       "array([[ 0,  1,  2],\n",
       "       [ 3,  4,  5],\n",
       "       [ 6,  7,  8],\n",
       "       [ 9, 10, 11],\n",
       "       [12, 13, 14]])"
      ]
     },
     "execution_count": 23,
     "metadata": {},
     "output_type": "execute_result"
    }
   ],
   "source": [
    "a"
   ]
  },
  {
   "cell_type": "code",
   "execution_count": 24,
   "metadata": {},
   "outputs": [],
   "source": [
    "columns = list('abc')"
   ]
  },
  {
   "cell_type": "code",
   "execution_count": 25,
   "metadata": {},
   "outputs": [
    {
     "data": {
      "text/plain": [
       "['a', 'b', 'c']"
      ]
     },
     "execution_count": 25,
     "metadata": {},
     "output_type": "execute_result"
    }
   ],
   "source": [
    "columns"
   ]
  },
  {
   "cell_type": "code",
   "execution_count": 26,
   "metadata": {},
   "outputs": [],
   "source": [
    "index = pd.date_range('2017-7-1', periods=5, freq='B')"
   ]
  },
  {
   "cell_type": "code",
   "execution_count": 27,
   "metadata": {},
   "outputs": [
    {
     "data": {
      "text/plain": [
       "DatetimeIndex(['2017-07-03', '2017-07-04', '2017-07-05', '2017-07-06',\n",
       "               '2017-07-07'],\n",
       "              dtype='datetime64[ns]', freq='B')"
      ]
     },
     "execution_count": 27,
     "metadata": {},
     "output_type": "execute_result"
    }
   ],
   "source": [
    "index"
   ]
  },
  {
   "cell_type": "code",
   "execution_count": 28,
   "metadata": {},
   "outputs": [],
   "source": [
    "df = pd.DataFrame(a, columns=columns, index=index)"
   ]
  },
  {
   "cell_type": "code",
   "execution_count": 29,
   "metadata": {},
   "outputs": [
    {
     "data": {
      "text/html": [
       "<div>\n",
       "<style scoped>\n",
       "    .dataframe tbody tr th:only-of-type {\n",
       "        vertical-align: middle;\n",
       "    }\n",
       "\n",
       "    .dataframe tbody tr th {\n",
       "        vertical-align: top;\n",
       "    }\n",
       "\n",
       "    .dataframe thead th {\n",
       "        text-align: right;\n",
       "    }\n",
       "</style>\n",
       "<table border=\"1\" class=\"dataframe\">\n",
       "  <thead>\n",
       "    <tr style=\"text-align: right;\">\n",
       "      <th></th>\n",
       "      <th>a</th>\n",
       "      <th>b</th>\n",
       "      <th>c</th>\n",
       "    </tr>\n",
       "  </thead>\n",
       "  <tbody>\n",
       "    <tr>\n",
       "      <th>2017-07-03</th>\n",
       "      <td>0</td>\n",
       "      <td>1</td>\n",
       "      <td>2</td>\n",
       "    </tr>\n",
       "    <tr>\n",
       "      <th>2017-07-04</th>\n",
       "      <td>3</td>\n",
       "      <td>4</td>\n",
       "      <td>5</td>\n",
       "    </tr>\n",
       "    <tr>\n",
       "      <th>2017-07-05</th>\n",
       "      <td>6</td>\n",
       "      <td>7</td>\n",
       "      <td>8</td>\n",
       "    </tr>\n",
       "    <tr>\n",
       "      <th>2017-07-06</th>\n",
       "      <td>9</td>\n",
       "      <td>10</td>\n",
       "      <td>11</td>\n",
       "    </tr>\n",
       "    <tr>\n",
       "      <th>2017-07-07</th>\n",
       "      <td>12</td>\n",
       "      <td>13</td>\n",
       "      <td>14</td>\n",
       "    </tr>\n",
       "  </tbody>\n",
       "</table>\n",
       "</div>"
      ],
      "text/plain": [
       "             a   b   c\n",
       "2017-07-03   0   1   2\n",
       "2017-07-04   3   4   5\n",
       "2017-07-05   6   7   8\n",
       "2017-07-06   9  10  11\n",
       "2017-07-07  12  13  14"
      ]
     },
     "execution_count": 29,
     "metadata": {},
     "output_type": "execute_result"
    }
   ],
   "source": [
    "df"
   ]
  },
  {
   "cell_type": "code",
   "execution_count": 30,
   "metadata": {},
   "outputs": [
    {
     "data": {
      "text/html": [
       "<div>\n",
       "<style scoped>\n",
       "    .dataframe tbody tr th:only-of-type {\n",
       "        vertical-align: middle;\n",
       "    }\n",
       "\n",
       "    .dataframe tbody tr th {\n",
       "        vertical-align: top;\n",
       "    }\n",
       "\n",
       "    .dataframe thead th {\n",
       "        text-align: right;\n",
       "    }\n",
       "</style>\n",
       "<table border=\"1\" class=\"dataframe\">\n",
       "  <thead>\n",
       "    <tr style=\"text-align: right;\">\n",
       "      <th></th>\n",
       "      <th>a</th>\n",
       "      <th>b</th>\n",
       "      <th>c</th>\n",
       "    </tr>\n",
       "  </thead>\n",
       "  <tbody>\n",
       "    <tr>\n",
       "      <th>2017-07-03</th>\n",
       "      <td>0</td>\n",
       "      <td>2</td>\n",
       "      <td>4</td>\n",
       "    </tr>\n",
       "    <tr>\n",
       "      <th>2017-07-04</th>\n",
       "      <td>6</td>\n",
       "      <td>8</td>\n",
       "      <td>10</td>\n",
       "    </tr>\n",
       "    <tr>\n",
       "      <th>2017-07-05</th>\n",
       "      <td>12</td>\n",
       "      <td>14</td>\n",
       "      <td>16</td>\n",
       "    </tr>\n",
       "    <tr>\n",
       "      <th>2017-07-06</th>\n",
       "      <td>18</td>\n",
       "      <td>20</td>\n",
       "      <td>22</td>\n",
       "    </tr>\n",
       "    <tr>\n",
       "      <th>2017-07-07</th>\n",
       "      <td>24</td>\n",
       "      <td>26</td>\n",
       "      <td>28</td>\n",
       "    </tr>\n",
       "  </tbody>\n",
       "</table>\n",
       "</div>"
      ],
      "text/plain": [
       "             a   b   c\n",
       "2017-07-03   0   2   4\n",
       "2017-07-04   6   8  10\n",
       "2017-07-05  12  14  16\n",
       "2017-07-06  18  20  22\n",
       "2017-07-07  24  26  28"
      ]
     },
     "execution_count": 30,
     "metadata": {},
     "output_type": "execute_result"
    }
   ],
   "source": [
    "2 * df"
   ]
  },
  {
   "cell_type": "code",
   "execution_count": 31,
   "metadata": {},
   "outputs": [
    {
     "data": {
      "text/plain": [
       "a    30\n",
       "b    35\n",
       "c    40\n",
       "dtype: int64"
      ]
     },
     "execution_count": 31,
     "metadata": {},
     "output_type": "execute_result"
    }
   ],
   "source": [
    "df.sum()"
   ]
  },
  {
   "cell_type": "code",
   "execution_count": 32,
   "metadata": {},
   "outputs": [
    {
     "data": {
      "text/plain": [
       "a    6.0\n",
       "b    7.0\n",
       "c    8.0\n",
       "dtype: float64"
      ]
     },
     "execution_count": 32,
     "metadata": {},
     "output_type": "execute_result"
    }
   ],
   "source": [
    "np.mean(df)"
   ]
  },
  {
   "cell_type": "code",
   "execution_count": 33,
   "metadata": {},
   "outputs": [
    {
     "data": {
      "text/plain": [
       "2017-07-03     2\n",
       "2017-07-04     8\n",
       "2017-07-05    14\n",
       "2017-07-06    20\n",
       "2017-07-07    26\n",
       "Freq: B, dtype: int64"
      ]
     },
     "execution_count": 33,
     "metadata": {},
     "output_type": "execute_result"
    }
   ],
   "source": [
    "df['a'] + df['c']"
   ]
  },
  {
   "cell_type": "code",
   "execution_count": 34,
   "metadata": {},
   "outputs": [
    {
     "data": {
      "text/plain": [
       "2017-07-03     0.0\n",
       "2017-07-04     4.5\n",
       "2017-07-05     9.0\n",
       "2017-07-06    13.5\n",
       "2017-07-07    18.0\n",
       "Freq: B, dtype: float64"
      ]
     },
     "execution_count": 34,
     "metadata": {},
     "output_type": "execute_result"
    }
   ],
   "source": [
    "0.5 * df.a + 2 * df.b - df.c"
   ]
  },
  {
   "cell_type": "code",
   "execution_count": 35,
   "metadata": {},
   "outputs": [
    {
     "data": {
      "text/plain": [
       "2017-07-03    False\n",
       "2017-07-04    False\n",
       "2017-07-05     True\n",
       "2017-07-06     True\n",
       "2017-07-07     True\n",
       "Freq: B, Name: a, dtype: bool"
      ]
     },
     "execution_count": 35,
     "metadata": {},
     "output_type": "execute_result"
    }
   ],
   "source": [
    "df['a'] > 5"
   ]
  },
  {
   "cell_type": "code",
   "execution_count": 36,
   "metadata": {},
   "outputs": [
    {
     "data": {
      "text/html": [
       "<div>\n",
       "<style scoped>\n",
       "    .dataframe tbody tr th:only-of-type {\n",
       "        vertical-align: middle;\n",
       "    }\n",
       "\n",
       "    .dataframe tbody tr th {\n",
       "        vertical-align: top;\n",
       "    }\n",
       "\n",
       "    .dataframe thead th {\n",
       "        text-align: right;\n",
       "    }\n",
       "</style>\n",
       "<table border=\"1\" class=\"dataframe\">\n",
       "  <thead>\n",
       "    <tr style=\"text-align: right;\">\n",
       "      <th></th>\n",
       "      <th>a</th>\n",
       "      <th>b</th>\n",
       "      <th>c</th>\n",
       "    </tr>\n",
       "  </thead>\n",
       "  <tbody>\n",
       "    <tr>\n",
       "      <th>2017-07-05</th>\n",
       "      <td>6</td>\n",
       "      <td>7</td>\n",
       "      <td>8</td>\n",
       "    </tr>\n",
       "    <tr>\n",
       "      <th>2017-07-06</th>\n",
       "      <td>9</td>\n",
       "      <td>10</td>\n",
       "      <td>11</td>\n",
       "    </tr>\n",
       "    <tr>\n",
       "      <th>2017-07-07</th>\n",
       "      <td>12</td>\n",
       "      <td>13</td>\n",
       "      <td>14</td>\n",
       "    </tr>\n",
       "  </tbody>\n",
       "</table>\n",
       "</div>"
      ],
      "text/plain": [
       "             a   b   c\n",
       "2017-07-05   6   7   8\n",
       "2017-07-06   9  10  11\n",
       "2017-07-07  12  13  14"
      ]
     },
     "execution_count": 36,
     "metadata": {},
     "output_type": "execute_result"
    }
   ],
   "source": [
    "df[df['a'] > 5]"
   ]
  },
  {
   "cell_type": "code",
   "execution_count": 37,
   "metadata": {},
   "outputs": [
    {
     "data": {
      "text/plain": [
       "2017-07-03    True\n",
       "2017-07-04    True\n",
       "2017-07-05    True\n",
       "2017-07-06    True\n",
       "2017-07-07    True\n",
       "Freq: B, dtype: bool"
      ]
     },
     "execution_count": 37,
     "metadata": {},
     "output_type": "execute_result"
    }
   ],
   "source": [
    "df['c'] > df['b']"
   ]
  },
  {
   "cell_type": "code",
   "execution_count": 38,
   "metadata": {},
   "outputs": [
    {
     "data": {
      "text/plain": [
       "2017-07-03    False\n",
       "2017-07-04    False\n",
       "2017-07-05    False\n",
       "2017-07-06     True\n",
       "2017-07-07     True\n",
       "Freq: B, dtype: bool"
      ]
     },
     "execution_count": 38,
     "metadata": {},
     "output_type": "execute_result"
    }
   ],
   "source": [
    "0.15 * df.a + df.b > df.c"
   ]
  },
  {
   "cell_type": "markdown",
   "metadata": {},
   "source": [
    "## Strategies based on Simple Moving Averages"
   ]
  },
  {
   "cell_type": "markdown",
   "metadata": {},
   "source": [
    "### Getting into the Basics "
   ]
  },
  {
   "cell_type": "code",
   "execution_count": 39,
   "metadata": {},
   "outputs": [],
   "source": [
    "%matplotlib inline\n",
    "import pandas as pd\n",
    "import datetime"
   ]
  },
  {
   "cell_type": "code",
   "execution_count": 40,
   "metadata": {},
   "outputs": [],
   "source": [
    "quandl_api_key = 'tazR87u-Jc7PsHZ2XV1-'\n",
    "import quandl as q"
   ]
  },
  {
   "cell_type": "code",
   "execution_count": 41,
   "metadata": {},
   "outputs": [],
   "source": [
    "#data = q.get('EIA/PET_RWTC_D')\n",
    "#data = q.get('EOD/AAPL', start_date='2010-1-1',end_date='2016-10-31', api_key=quandl_api_key)\n",
    "data = q.get('WIKI/AAPL', start_date='2010-1-1',end_date='2016-10-31', api_key=quandl_api_key)"
   ]
  },
  {
   "cell_type": "code",
   "execution_count": 42,
   "metadata": {},
   "outputs": [
    {
     "name": "stdout",
     "output_type": "stream",
     "text": [
      "<class 'pandas.core.frame.DataFrame'>\n",
      "DatetimeIndex: 1720 entries, 2010-01-04 to 2016-10-31\n",
      "Data columns (total 12 columns):\n",
      "Open           1720 non-null float64\n",
      "High           1720 non-null float64\n",
      "Low            1720 non-null float64\n",
      "Close          1720 non-null float64\n",
      "Volume         1720 non-null float64\n",
      "Ex-Dividend    1720 non-null float64\n",
      "Split Ratio    1720 non-null float64\n",
      "Adj. Open      1720 non-null float64\n",
      "Adj. High      1720 non-null float64\n",
      "Adj. Low       1720 non-null float64\n",
      "Adj. Close     1720 non-null float64\n",
      "Adj. Volume    1720 non-null float64\n",
      "dtypes: float64(12)\n",
      "memory usage: 174.7 KB\n"
     ]
    }
   ],
   "source": [
    "data.info()"
   ]
  },
  {
   "cell_type": "code",
   "execution_count": 43,
   "metadata": {},
   "outputs": [],
   "source": [
    "data = data['Adj. Close']"
   ]
  },
  {
   "cell_type": "code",
   "execution_count": 44,
   "metadata": {},
   "outputs": [
    {
     "data": {
      "text/plain": [
       "Date\n",
       "2010-01-04     27.503268\n",
       "2010-01-05     27.550818\n",
       "2010-01-06     27.112585\n",
       "2010-01-07     27.062465\n",
       "2010-01-08     27.242385\n",
       "2010-01-11     27.002063\n",
       "2010-01-12     26.694915\n",
       "2010-01-13     27.071461\n",
       "2010-01-14     26.914674\n",
       "2010-01-15     26.464875\n",
       "2010-01-19     27.635637\n",
       "2010-01-20     27.209613\n",
       "2010-01-21     26.740152\n",
       "2010-01-22     25.413631\n",
       "2010-01-25     26.097968\n",
       "2010-01-26     26.466160\n",
       "2010-01-27     26.715991\n",
       "2010-01-28     25.611543\n",
       "2010-01-29     24.682772\n",
       "2010-02-01     25.025519\n",
       "2010-02-02     25.170740\n",
       "2010-02-03     25.603832\n",
       "2010-02-04     24.681102\n",
       "2010-02-05     25.119334\n",
       "2010-02-08     24.947126\n",
       "2010-02-09     25.213149\n",
       "2010-02-10     25.075125\n",
       "2010-02-11     25.531864\n",
       "2010-02-12     25.751623\n",
       "2010-02-16     26.139735\n",
       "                 ...    \n",
       "2016-09-20    111.588120\n",
       "2016-09-21    111.568469\n",
       "2016-09-22    112.619797\n",
       "2016-09-23    110.743128\n",
       "2016-09-26    110.910161\n",
       "2016-09-27    111.116497\n",
       "2016-09-28    111.961489\n",
       "2016-09-29    110.222377\n",
       "2016-09-30    111.077195\n",
       "2016-10-03    110.556443\n",
       "2016-10-04    111.028067\n",
       "2016-10-05    111.077195\n",
       "2016-10-06    111.902536\n",
       "2016-10-07    112.069569\n",
       "2016-10-10    114.024842\n",
       "2016-10-11    114.270480\n",
       "2016-10-12    115.292331\n",
       "2016-10-13    114.938613\n",
       "2016-10-14    115.577270\n",
       "2016-10-17    115.498666\n",
       "2016-10-18    115.420062\n",
       "2016-10-19    115.076170\n",
       "2016-10-20    115.017217\n",
       "2016-10-21    114.565244\n",
       "2016-10-24    115.596921\n",
       "2016-10-25    116.186451\n",
       "2016-10-26    113.572870\n",
       "2016-10-27    112.482240\n",
       "2016-10-28    111.735503\n",
       "2016-10-31    111.558644\n",
       "Name: Adj. Close, Length: 1720, dtype: float64"
      ]
     },
     "execution_count": 44,
     "metadata": {},
     "output_type": "execute_result"
    }
   ],
   "source": [
    "data"
   ]
  },
  {
   "cell_type": "code",
   "execution_count": 45,
   "metadata": {},
   "outputs": [],
   "source": [
    "data = pd.DataFrame(data)"
   ]
  },
  {
   "cell_type": "code",
   "execution_count": 46,
   "metadata": {},
   "outputs": [],
   "source": [
    "data.rename(columns={'Adj. Close': 'price'}, inplace=True)"
   ]
  },
  {
   "cell_type": "code",
   "execution_count": 47,
   "metadata": {},
   "outputs": [
    {
     "name": "stdout",
     "output_type": "stream",
     "text": [
      "<class 'pandas.core.frame.DataFrame'>\n",
      "DatetimeIndex: 1720 entries, 2010-01-04 to 2016-10-31\n",
      "Data columns (total 1 columns):\n",
      "price    1720 non-null float64\n",
      "dtypes: float64(1)\n",
      "memory usage: 26.9 KB\n"
     ]
    }
   ],
   "source": [
    "data.info()"
   ]
  },
  {
   "cell_type": "code",
   "execution_count": 48,
   "metadata": {},
   "outputs": [],
   "source": [
    "data['SMA1'] = data['price'].rolling(42).mean()"
   ]
  },
  {
   "cell_type": "code",
   "execution_count": 49,
   "metadata": {},
   "outputs": [],
   "source": [
    "data['SMA2'] = data['price'].rolling(252).mean()"
   ]
  },
  {
   "cell_type": "code",
   "execution_count": 50,
   "metadata": {},
   "outputs": [
    {
     "data": {
      "text/html": [
       "<div>\n",
       "<style scoped>\n",
       "    .dataframe tbody tr th:only-of-type {\n",
       "        vertical-align: middle;\n",
       "    }\n",
       "\n",
       "    .dataframe tbody tr th {\n",
       "        vertical-align: top;\n",
       "    }\n",
       "\n",
       "    .dataframe thead th {\n",
       "        text-align: right;\n",
       "    }\n",
       "</style>\n",
       "<table border=\"1\" class=\"dataframe\">\n",
       "  <thead>\n",
       "    <tr style=\"text-align: right;\">\n",
       "      <th></th>\n",
       "      <th>price</th>\n",
       "      <th>SMA1</th>\n",
       "      <th>SMA2</th>\n",
       "    </tr>\n",
       "    <tr>\n",
       "      <th>Date</th>\n",
       "      <th></th>\n",
       "      <th></th>\n",
       "      <th></th>\n",
       "    </tr>\n",
       "  </thead>\n",
       "  <tbody>\n",
       "    <tr>\n",
       "      <th>2016-10-25</th>\n",
       "      <td>116.186451</td>\n",
       "      <td>110.569076</td>\n",
       "      <td>102.346811</td>\n",
       "    </tr>\n",
       "    <tr>\n",
       "      <th>2016-10-26</th>\n",
       "      <td>113.572870</td>\n",
       "      <td>110.771435</td>\n",
       "      <td>102.360201</td>\n",
       "    </tr>\n",
       "    <tr>\n",
       "      <th>2016-10-27</th>\n",
       "      <td>112.482240</td>\n",
       "      <td>110.950633</td>\n",
       "      <td>102.351246</td>\n",
       "    </tr>\n",
       "    <tr>\n",
       "      <th>2016-10-28</th>\n",
       "      <td>111.735503</td>\n",
       "      <td>111.131235</td>\n",
       "      <td>102.334516</td>\n",
       "    </tr>\n",
       "    <tr>\n",
       "      <th>2016-10-31</th>\n",
       "      <td>111.558644</td>\n",
       "      <td>111.305286</td>\n",
       "      <td>102.321017</td>\n",
       "    </tr>\n",
       "  </tbody>\n",
       "</table>\n",
       "</div>"
      ],
      "text/plain": [
       "                 price        SMA1        SMA2\n",
       "Date                                          \n",
       "2016-10-25  116.186451  110.569076  102.346811\n",
       "2016-10-26  113.572870  110.771435  102.360201\n",
       "2016-10-27  112.482240  110.950633  102.351246\n",
       "2016-10-28  111.735503  111.131235  102.334516\n",
       "2016-10-31  111.558644  111.305286  102.321017"
      ]
     },
     "execution_count": 50,
     "metadata": {},
     "output_type": "execute_result"
    }
   ],
   "source": [
    "data.tail()"
   ]
  },
  {
   "cell_type": "code",
   "execution_count": 51,
   "metadata": {},
   "outputs": [
    {
     "data": {
      "text/plain": [
       "<matplotlib.axes._subplots.AxesSubplot at 0x122ef3518>"
      ]
     },
     "execution_count": 51,
     "metadata": {},
     "output_type": "execute_result"
    },
    {
     "data": {
      "image/png": "[encoded data removed]",
      "text/plain": [
       "<Figure size 720x432 with 1 Axes>"
      ]
     },
     "metadata": {
      "needs_background": "light"
     },
     "output_type": "display_data"
    }
   ],
   "source": [
    "data.plot(title='AAPL stock price | 42 & 252 days SMAs', figsize=(10, 6))\n",
    "# plt.savefig('../../images/ch04/sma_plot_1.png')"
   ]
  },
  {
   "cell_type": "code",
   "execution_count": 52,
   "metadata": {},
   "outputs": [],
   "source": [
    "import numpy as np"
   ]
  },
  {
   "cell_type": "code",
   "execution_count": 53,
   "metadata": {},
   "outputs": [],
   "source": [
    "data['position'] = np.where(data['SMA1'] > data['SMA2'], 1, -1)"
   ]
  },
  {
   "cell_type": "code",
   "execution_count": 54,
   "metadata": {},
   "outputs": [],
   "source": [
    "data.dropna(inplace=True)"
   ]
  },
  {
   "cell_type": "code",
   "execution_count": 55,
   "metadata": {},
   "outputs": [
    {
     "data": {
      "text/html": [
       "<div>\n",
       "<style scoped>\n",
       "    .dataframe tbody tr th:only-of-type {\n",
       "        vertical-align: middle;\n",
       "    }\n",
       "\n",
       "    .dataframe tbody tr th {\n",
       "        vertical-align: top;\n",
       "    }\n",
       "\n",
       "    .dataframe thead th {\n",
       "        text-align: right;\n",
       "    }\n",
       "</style>\n",
       "<table border=\"1\" class=\"dataframe\">\n",
       "  <thead>\n",
       "    <tr style=\"text-align: right;\">\n",
       "      <th></th>\n",
       "      <th>price</th>\n",
       "      <th>SMA1</th>\n",
       "      <th>SMA2</th>\n",
       "      <th>position</th>\n",
       "    </tr>\n",
       "    <tr>\n",
       "      <th>Date</th>\n",
       "      <th></th>\n",
       "      <th></th>\n",
       "      <th></th>\n",
       "      <th></th>\n",
       "    </tr>\n",
       "  </thead>\n",
       "  <tbody>\n",
       "    <tr>\n",
       "      <th>2010-12-31</th>\n",
       "      <td>41.453456</td>\n",
       "      <td>40.732362</td>\n",
       "      <td>33.393369</td>\n",
       "      <td>1</td>\n",
       "    </tr>\n",
       "    <tr>\n",
       "      <th>2011-01-03</th>\n",
       "      <td>42.354338</td>\n",
       "      <td>40.794202</td>\n",
       "      <td>33.452302</td>\n",
       "      <td>1</td>\n",
       "    </tr>\n",
       "    <tr>\n",
       "      <th>2011-01-04</th>\n",
       "      <td>42.575382</td>\n",
       "      <td>40.850779</td>\n",
       "      <td>33.511923</td>\n",
       "      <td>1</td>\n",
       "    </tr>\n",
       "    <tr>\n",
       "      <th>2011-01-05</th>\n",
       "      <td>42.923655</td>\n",
       "      <td>40.898910</td>\n",
       "      <td>33.574665</td>\n",
       "      <td>1</td>\n",
       "    </tr>\n",
       "    <tr>\n",
       "      <th>2011-01-06</th>\n",
       "      <td>42.888956</td>\n",
       "      <td>40.949704</td>\n",
       "      <td>33.637469</td>\n",
       "      <td>1</td>\n",
       "    </tr>\n",
       "    <tr>\n",
       "      <th>2011-01-07</th>\n",
       "      <td>43.196105</td>\n",
       "      <td>41.003252</td>\n",
       "      <td>33.700777</td>\n",
       "      <td>1</td>\n",
       "    </tr>\n",
       "    <tr>\n",
       "      <th>2011-01-10</th>\n",
       "      <td>44.010241</td>\n",
       "      <td>41.083955</td>\n",
       "      <td>33.768270</td>\n",
       "      <td>1</td>\n",
       "    </tr>\n",
       "    <tr>\n",
       "      <th>2011-01-11</th>\n",
       "      <td>43.905502</td>\n",
       "      <td>41.156198</td>\n",
       "      <td>33.836566</td>\n",
       "      <td>1</td>\n",
       "    </tr>\n",
       "    <tr>\n",
       "      <th>2011-01-12</th>\n",
       "      <td>44.262770</td>\n",
       "      <td>41.241155</td>\n",
       "      <td>33.904786</td>\n",
       "      <td>1</td>\n",
       "    </tr>\n",
       "    <tr>\n",
       "      <th>2011-01-13</th>\n",
       "      <td>44.424698</td>\n",
       "      <td>41.356359</td>\n",
       "      <td>33.974270</td>\n",
       "      <td>1</td>\n",
       "    </tr>\n",
       "    <tr>\n",
       "      <th>2011-01-14</th>\n",
       "      <td>44.784537</td>\n",
       "      <td>41.483175</td>\n",
       "      <td>34.046967</td>\n",
       "      <td>1</td>\n",
       "    </tr>\n",
       "    <tr>\n",
       "      <th>2011-01-18</th>\n",
       "      <td>43.778273</td>\n",
       "      <td>41.602693</td>\n",
       "      <td>34.111025</td>\n",
       "      <td>1</td>\n",
       "    </tr>\n",
       "    <tr>\n",
       "      <th>2011-01-19</th>\n",
       "      <td>43.545663</td>\n",
       "      <td>41.720007</td>\n",
       "      <td>34.175851</td>\n",
       "      <td>1</td>\n",
       "    </tr>\n",
       "    <tr>\n",
       "      <th>2011-01-20</th>\n",
       "      <td>42.754017</td>\n",
       "      <td>41.794209</td>\n",
       "      <td>34.239398</td>\n",
       "      <td>1</td>\n",
       "    </tr>\n",
       "    <tr>\n",
       "      <th>2011-01-21</th>\n",
       "      <td>41.988074</td>\n",
       "      <td>41.855375</td>\n",
       "      <td>34.305169</td>\n",
       "      <td>1</td>\n",
       "    </tr>\n",
       "    <tr>\n",
       "      <th>2011-01-24</th>\n",
       "      <td>43.367028</td>\n",
       "      <td>41.929087</td>\n",
       "      <td>34.373697</td>\n",
       "      <td>1</td>\n",
       "    </tr>\n",
       "    <tr>\n",
       "      <th>2011-01-25</th>\n",
       "      <td>43.874658</td>\n",
       "      <td>42.029053</td>\n",
       "      <td>34.442779</td>\n",
       "      <td>1</td>\n",
       "    </tr>\n",
       "    <tr>\n",
       "      <th>2011-01-26</th>\n",
       "      <td>44.189517</td>\n",
       "      <td>42.117957</td>\n",
       "      <td>34.512118</td>\n",
       "      <td>1</td>\n",
       "    </tr>\n",
       "    <tr>\n",
       "      <th>2011-01-27</th>\n",
       "      <td>44.107269</td>\n",
       "      <td>42.204275</td>\n",
       "      <td>34.585514</td>\n",
       "      <td>1</td>\n",
       "    </tr>\n",
       "    <tr>\n",
       "      <th>2011-01-28</th>\n",
       "      <td>43.193534</td>\n",
       "      <td>42.263116</td>\n",
       "      <td>34.658969</td>\n",
       "      <td>1</td>\n",
       "    </tr>\n",
       "    <tr>\n",
       "      <th>2011-01-31</th>\n",
       "      <td>43.607349</td>\n",
       "      <td>42.349313</td>\n",
       "      <td>34.732707</td>\n",
       "      <td>1</td>\n",
       "    </tr>\n",
       "    <tr>\n",
       "      <th>2011-02-01</th>\n",
       "      <td>44.341164</td>\n",
       "      <td>42.436916</td>\n",
       "      <td>34.808780</td>\n",
       "      <td>1</td>\n",
       "    </tr>\n",
       "    <tr>\n",
       "      <th>2011-02-02</th>\n",
       "      <td>44.249919</td>\n",
       "      <td>42.516993</td>\n",
       "      <td>34.882772</td>\n",
       "      <td>1</td>\n",
       "    </tr>\n",
       "    <tr>\n",
       "      <th>2011-02-03</th>\n",
       "      <td>44.136827</td>\n",
       "      <td>42.596549</td>\n",
       "      <td>34.959977</td>\n",
       "      <td>1</td>\n",
       "    </tr>\n",
       "    <tr>\n",
       "      <th>2011-02-04</th>\n",
       "      <td>44.530079</td>\n",
       "      <td>42.677176</td>\n",
       "      <td>35.037004</td>\n",
       "      <td>1</td>\n",
       "    </tr>\n",
       "    <tr>\n",
       "      <th>2011-02-07</th>\n",
       "      <td>45.221484</td>\n",
       "      <td>42.780201</td>\n",
       "      <td>35.117458</td>\n",
       "      <td>1</td>\n",
       "    </tr>\n",
       "    <tr>\n",
       "      <th>2011-02-08</th>\n",
       "      <td>45.648151</td>\n",
       "      <td>42.884818</td>\n",
       "      <td>35.198549</td>\n",
       "      <td>1</td>\n",
       "    </tr>\n",
       "    <tr>\n",
       "      <th>2011-02-09</th>\n",
       "      <td>46.028552</td>\n",
       "      <td>43.002324</td>\n",
       "      <td>35.281698</td>\n",
       "      <td>1</td>\n",
       "    </tr>\n",
       "    <tr>\n",
       "      <th>2011-02-10</th>\n",
       "      <td>45.563331</td>\n",
       "      <td>43.106298</td>\n",
       "      <td>35.361188</td>\n",
       "      <td>1</td>\n",
       "    </tr>\n",
       "    <tr>\n",
       "      <th>2011-02-11</th>\n",
       "      <td>45.860199</td>\n",
       "      <td>43.213944</td>\n",
       "      <td>35.440984</td>\n",
       "      <td>1</td>\n",
       "    </tr>\n",
       "    <tr>\n",
       "      <th>...</th>\n",
       "      <td>...</td>\n",
       "      <td>...</td>\n",
       "      <td>...</td>\n",
       "      <td>...</td>\n",
       "    </tr>\n",
       "    <tr>\n",
       "      <th>2016-09-20</th>\n",
       "      <td>111.588120</td>\n",
       "      <td>105.214900</td>\n",
       "      <td>101.846515</td>\n",
       "      <td>1</td>\n",
       "    </tr>\n",
       "    <tr>\n",
       "      <th>2016-09-21</th>\n",
       "      <td>111.568469</td>\n",
       "      <td>105.575597</td>\n",
       "      <td>101.856342</td>\n",
       "      <td>1</td>\n",
       "    </tr>\n",
       "    <tr>\n",
       "      <th>2016-09-22</th>\n",
       "      <td>112.619797</td>\n",
       "      <td>105.992040</td>\n",
       "      <td>101.866829</td>\n",
       "      <td>1</td>\n",
       "    </tr>\n",
       "    <tr>\n",
       "      <th>2016-09-23</th>\n",
       "      <td>110.743128</td>\n",
       "      <td>106.379391</td>\n",
       "      <td>101.867272</td>\n",
       "      <td>1</td>\n",
       "    </tr>\n",
       "    <tr>\n",
       "      <th>2016-09-26</th>\n",
       "      <td>110.910161</td>\n",
       "      <td>106.624591</td>\n",
       "      <td>101.869486</td>\n",
       "      <td>1</td>\n",
       "    </tr>\n",
       "    <tr>\n",
       "      <th>2016-09-27</th>\n",
       "      <td>111.116497</td>\n",
       "      <td>106.842361</td>\n",
       "      <td>101.881184</td>\n",
       "      <td>1</td>\n",
       "    </tr>\n",
       "    <tr>\n",
       "      <th>2016-09-28</th>\n",
       "      <td>111.961489</td>\n",
       "      <td>107.083274</td>\n",
       "      <td>101.909138</td>\n",
       "      <td>1</td>\n",
       "    </tr>\n",
       "    <tr>\n",
       "      <th>2016-09-29</th>\n",
       "      <td>110.222377</td>\n",
       "      <td>107.239965</td>\n",
       "      <td>101.926794</td>\n",
       "      <td>1</td>\n",
       "    </tr>\n",
       "    <tr>\n",
       "      <th>2016-09-30</th>\n",
       "      <td>111.077195</td>\n",
       "      <td>107.453541</td>\n",
       "      <td>101.949254</td>\n",
       "      <td>1</td>\n",
       "    </tr>\n",
       "    <tr>\n",
       "      <th>2016-10-03</th>\n",
       "      <td>110.556443</td>\n",
       "      <td>107.624236</td>\n",
       "      <td>101.966593</td>\n",
       "      <td>1</td>\n",
       "    </tr>\n",
       "    <tr>\n",
       "      <th>2016-10-04</th>\n",
       "      <td>111.028067</td>\n",
       "      <td>107.791035</td>\n",
       "      <td>101.984278</td>\n",
       "      <td>1</td>\n",
       "    </tr>\n",
       "    <tr>\n",
       "      <th>2016-10-05</th>\n",
       "      <td>111.077195</td>\n",
       "      <td>107.921340</td>\n",
       "      <td>102.000133</td>\n",
       "      <td>1</td>\n",
       "    </tr>\n",
       "    <tr>\n",
       "      <th>2016-10-06</th>\n",
       "      <td>111.902536</td>\n",
       "      <td>108.050475</td>\n",
       "      <td>102.021288</td>\n",
       "      <td>1</td>\n",
       "    </tr>\n",
       "    <tr>\n",
       "      <th>2016-10-07</th>\n",
       "      <td>112.069569</td>\n",
       "      <td>108.173294</td>\n",
       "      <td>102.047991</td>\n",
       "      <td>1</td>\n",
       "    </tr>\n",
       "    <tr>\n",
       "      <th>2016-10-10</th>\n",
       "      <td>114.024842</td>\n",
       "      <td>108.361616</td>\n",
       "      <td>102.072452</td>\n",
       "      <td>1</td>\n",
       "    </tr>\n",
       "    <tr>\n",
       "      <th>2016-10-11</th>\n",
       "      <td>114.270480</td>\n",
       "      <td>108.557424</td>\n",
       "      <td>102.099872</td>\n",
       "      <td>1</td>\n",
       "    </tr>\n",
       "    <tr>\n",
       "      <th>2016-10-12</th>\n",
       "      <td>115.292331</td>\n",
       "      <td>108.771713</td>\n",
       "      <td>102.130623</td>\n",
       "      <td>1</td>\n",
       "    </tr>\n",
       "    <tr>\n",
       "      <th>2016-10-13</th>\n",
       "      <td>114.938613</td>\n",
       "      <td>108.947168</td>\n",
       "      <td>102.166001</td>\n",
       "      <td>1</td>\n",
       "    </tr>\n",
       "    <tr>\n",
       "      <th>2016-10-14</th>\n",
       "      <td>115.577270</td>\n",
       "      <td>109.140169</td>\n",
       "      <td>102.197615</td>\n",
       "      <td>1</td>\n",
       "    </tr>\n",
       "    <tr>\n",
       "      <th>2016-10-17</th>\n",
       "      <td>115.498666</td>\n",
       "      <td>109.335041</td>\n",
       "      <td>102.232047</td>\n",
       "      <td>1</td>\n",
       "    </tr>\n",
       "    <tr>\n",
       "      <th>2016-10-18</th>\n",
       "      <td>115.420062</td>\n",
       "      <td>109.531317</td>\n",
       "      <td>102.263533</td>\n",
       "      <td>1</td>\n",
       "    </tr>\n",
       "    <tr>\n",
       "      <th>2016-10-19</th>\n",
       "      <td>115.076170</td>\n",
       "      <td>109.712855</td>\n",
       "      <td>102.285866</td>\n",
       "      <td>1</td>\n",
       "    </tr>\n",
       "    <tr>\n",
       "      <th>2016-10-20</th>\n",
       "      <td>115.017217</td>\n",
       "      <td>109.912874</td>\n",
       "      <td>102.308004</td>\n",
       "      <td>1</td>\n",
       "    </tr>\n",
       "    <tr>\n",
       "      <th>2016-10-21</th>\n",
       "      <td>114.565244</td>\n",
       "      <td>110.094177</td>\n",
       "      <td>102.321706</td>\n",
       "      <td>1</td>\n",
       "    </tr>\n",
       "    <tr>\n",
       "      <th>2016-10-24</th>\n",
       "      <td>115.596921</td>\n",
       "      <td>110.319228</td>\n",
       "      <td>102.325836</td>\n",
       "      <td>1</td>\n",
       "    </tr>\n",
       "    <tr>\n",
       "      <th>2016-10-25</th>\n",
       "      <td>116.186451</td>\n",
       "      <td>110.569076</td>\n",
       "      <td>102.346811</td>\n",
       "      <td>1</td>\n",
       "    </tr>\n",
       "    <tr>\n",
       "      <th>2016-10-26</th>\n",
       "      <td>113.572870</td>\n",
       "      <td>110.771435</td>\n",
       "      <td>102.360201</td>\n",
       "      <td>1</td>\n",
       "    </tr>\n",
       "    <tr>\n",
       "      <th>2016-10-27</th>\n",
       "      <td>112.482240</td>\n",
       "      <td>110.950633</td>\n",
       "      <td>102.351246</td>\n",
       "      <td>1</td>\n",
       "    </tr>\n",
       "    <tr>\n",
       "      <th>2016-10-28</th>\n",
       "      <td>111.735503</td>\n",
       "      <td>111.131235</td>\n",
       "      <td>102.334516</td>\n",
       "      <td>1</td>\n",
       "    </tr>\n",
       "    <tr>\n",
       "      <th>2016-10-31</th>\n",
       "      <td>111.558644</td>\n",
       "      <td>111.305286</td>\n",
       "      <td>102.321017</td>\n",
       "      <td>1</td>\n",
       "    </tr>\n",
       "  </tbody>\n",
       "</table>\n",
       "<p>1469 rows × 4 columns</p>\n",
       "</div>"
      ],
      "text/plain": [
       "                 price        SMA1        SMA2  position\n",
       "Date                                                    \n",
       "2010-12-31   41.453456   40.732362   33.393369         1\n",
       "2011-01-03   42.354338   40.794202   33.452302         1\n",
       "2011-01-04   42.575382   40.850779   33.511923         1\n",
       "2011-01-05   42.923655   40.898910   33.574665         1\n",
       "2011-01-06   42.888956   40.949704   33.637469         1\n",
       "2011-01-07   43.196105   41.003252   33.700777         1\n",
       "2011-01-10   44.010241   41.083955   33.768270         1\n",
       "2011-01-11   43.905502   41.156198   33.836566         1\n",
       "2011-01-12   44.262770   41.241155   33.904786         1\n",
       "2011-01-13   44.424698   41.356359   33.974270         1\n",
       "2011-01-14   44.784537   41.483175   34.046967         1\n",
       "2011-01-18   43.778273   41.602693   34.111025         1\n",
       "2011-01-19   43.545663   41.720007   34.175851         1\n",
       "2011-01-20   42.754017   41.794209   34.239398         1\n",
       "2011-01-21   41.988074   41.855375   34.305169         1\n",
       "2011-01-24   43.367028   41.929087   34.373697         1\n",
       "2011-01-25   43.874658   42.029053   34.442779         1\n",
       "2011-01-26   44.189517   42.117957   34.512118         1\n",
       "2011-01-27   44.107269   42.204275   34.585514         1\n",
       "2011-01-28   43.193534   42.263116   34.658969         1\n",
       "2011-01-31   43.607349   42.349313   34.732707         1\n",
       "2011-02-01   44.341164   42.436916   34.808780         1\n",
       "2011-02-02   44.249919   42.516993   34.882772         1\n",
       "2011-02-03   44.136827   42.596549   34.959977         1\n",
       "2011-02-04   44.530079   42.677176   35.037004         1\n",
       "2011-02-07   45.221484   42.780201   35.117458         1\n",
       "2011-02-08   45.648151   42.884818   35.198549         1\n",
       "2011-02-09   46.028552   43.002324   35.281698         1\n",
       "2011-02-10   45.563331   43.106298   35.361188         1\n",
       "2011-02-11   45.860199   43.213944   35.440984         1\n",
       "...                ...         ...         ...       ...\n",
       "2016-09-20  111.588120  105.214900  101.846515         1\n",
       "2016-09-21  111.568469  105.575597  101.856342         1\n",
       "2016-09-22  112.619797  105.992040  101.866829         1\n",
       "2016-09-23  110.743128  106.379391  101.867272         1\n",
       "2016-09-26  110.910161  106.624591  101.869486         1\n",
       "2016-09-27  111.116497  106.842361  101.881184         1\n",
       "2016-09-28  111.961489  107.083274  101.909138         1\n",
       "2016-09-29  110.222377  107.239965  101.926794         1\n",
       "2016-09-30  111.077195  107.453541  101.949254         1\n",
       "2016-10-03  110.556443  107.624236  101.966593         1\n",
       "2016-10-04  111.028067  107.791035  101.984278         1\n",
       "2016-10-05  111.077195  107.921340  102.000133         1\n",
       "2016-10-06  111.902536  108.050475  102.021288         1\n",
       "2016-10-07  112.069569  108.173294  102.047991         1\n",
       "2016-10-10  114.024842  108.361616  102.072452         1\n",
       "2016-10-11  114.270480  108.557424  102.099872         1\n",
       "2016-10-12  115.292331  108.771713  102.130623         1\n",
       "2016-10-13  114.938613  108.947168  102.166001         1\n",
       "2016-10-14  115.577270  109.140169  102.197615         1\n",
       "2016-10-17  115.498666  109.335041  102.232047         1\n",
       "2016-10-18  115.420062  109.531317  102.263533         1\n",
       "2016-10-19  115.076170  109.712855  102.285866         1\n",
       "2016-10-20  115.017217  109.912874  102.308004         1\n",
       "2016-10-21  114.565244  110.094177  102.321706         1\n",
       "2016-10-24  115.596921  110.319228  102.325836         1\n",
       "2016-10-25  116.186451  110.569076  102.346811         1\n",
       "2016-10-26  113.572870  110.771435  102.360201         1\n",
       "2016-10-27  112.482240  110.950633  102.351246         1\n",
       "2016-10-28  111.735503  111.131235  102.334516         1\n",
       "2016-10-31  111.558644  111.305286  102.321017         1\n",
       "\n",
       "[1469 rows x 4 columns]"
      ]
     },
     "execution_count": 55,
     "metadata": {},
     "output_type": "execute_result"
    }
   ],
   "source": [
    "data"
   ]
  },
  {
   "cell_type": "code",
   "execution_count": 56,
   "metadata": {},
   "outputs": [
    {
     "data": {
      "text/plain": [
       "<matplotlib.axes._subplots.AxesSubplot at 0x122fd3fd0>"
      ]
     },
     "execution_count": 56,
     "metadata": {},
     "output_type": "execute_result"
    },
    {
     "data": {
      "image/png": "[encoded data removed]",
      "text/plain": [
       "<Figure size 432x288 with 1 Axes>"
      ]
     },
     "metadata": {
      "needs_background": "light"
     },
     "output_type": "display_data"
    }
   ],
   "source": [
    "data['position'].plot(ylim=[-1.1, 1.1], title='Market Positioning')\n",
    "# plt.savefig('../../images/ch04/sma_plot_2.png')"
   ]
  },
  {
   "cell_type": "code",
   "execution_count": 57,
   "metadata": {},
   "outputs": [],
   "source": [
    "data['returns'] = np.log(data['price'] / data['price'].shift(1))"
   ]
  },
  {
   "cell_type": "code",
   "execution_count": 58,
   "metadata": {},
   "outputs": [],
   "source": [
    "data['test_ret'] = (data['price'] / data['price'].shift(1)) #-1"
   ]
  },
  {
   "cell_type": "code",
   "execution_count": 59,
   "metadata": {},
   "outputs": [
    {
     "data": {
      "text/plain": [
       "<matplotlib.axes._subplots.AxesSubplot at 0x123c5dc50>"
      ]
     },
     "execution_count": 59,
     "metadata": {},
     "output_type": "execute_result"
    },
    {
     "data": {
      "image/png": "[encoded data removed]",
      "text/plain": [
       "<Figure size 432x288 with 1 Axes>"
      ]
     },
     "metadata": {
      "needs_background": "light"
     },
     "output_type": "display_data"
    }
   ],
   "source": [
    "data['returns'].hist(bins=35)\n",
    "# plt.savefig('../../images/ch04/sma_plot_3.png')"
   ]
  },
  {
   "cell_type": "code",
   "execution_count": 60,
   "metadata": {},
   "outputs": [
    {
     "data": {
      "text/plain": [
       "<matplotlib.axes._subplots.AxesSubplot at 0x123d6c780>"
      ]
     },
     "execution_count": 60,
     "metadata": {},
     "output_type": "execute_result"
    },
    {
     "data": {
      "image/png": "[encoded data removed]",
      "text/plain": [
       "<Figure size 432x288 with 1 Axes>"
      ]
     },
     "metadata": {
      "needs_background": "light"
     },
     "output_type": "display_data"
    }
   ],
   "source": [
    "data['test_ret'].hist(bins=35)"
   ]
  },
  {
   "cell_type": "code",
   "execution_count": 61,
   "metadata": {},
   "outputs": [],
   "source": [
    "data['strategy'] = data['position'].shift(1) * data['returns']"
   ]
  },
  {
   "cell_type": "code",
   "execution_count": 62,
   "metadata": {},
   "outputs": [
    {
     "data": {
      "text/html": [
       "<div>\n",
       "<style scoped>\n",
       "    .dataframe tbody tr th:only-of-type {\n",
       "        vertical-align: middle;\n",
       "    }\n",
       "\n",
       "    .dataframe tbody tr th {\n",
       "        vertical-align: top;\n",
       "    }\n",
       "\n",
       "    .dataframe thead th {\n",
       "        text-align: right;\n",
       "    }\n",
       "</style>\n",
       "<table border=\"1\" class=\"dataframe\">\n",
       "  <thead>\n",
       "    <tr style=\"text-align: right;\">\n",
       "      <th></th>\n",
       "      <th>price</th>\n",
       "      <th>SMA1</th>\n",
       "      <th>SMA2</th>\n",
       "      <th>position</th>\n",
       "      <th>returns</th>\n",
       "      <th>test_ret</th>\n",
       "      <th>strategy</th>\n",
       "      <th>test_strat</th>\n",
       "    </tr>\n",
       "    <tr>\n",
       "      <th>Date</th>\n",
       "      <th></th>\n",
       "      <th></th>\n",
       "      <th></th>\n",
       "      <th></th>\n",
       "      <th></th>\n",
       "      <th></th>\n",
       "      <th></th>\n",
       "      <th></th>\n",
       "    </tr>\n",
       "  </thead>\n",
       "  <tbody>\n",
       "    <tr>\n",
       "      <th>2010-12-31</th>\n",
       "      <td>41.453456</td>\n",
       "      <td>40.732362</td>\n",
       "      <td>33.393369</td>\n",
       "      <td>1</td>\n",
       "      <td>NaN</td>\n",
       "      <td>NaN</td>\n",
       "      <td>NaN</td>\n",
       "      <td>NaN</td>\n",
       "    </tr>\n",
       "    <tr>\n",
       "      <th>2011-01-03</th>\n",
       "      <td>42.354338</td>\n",
       "      <td>40.794202</td>\n",
       "      <td>33.452302</td>\n",
       "      <td>1</td>\n",
       "      <td>0.021500</td>\n",
       "      <td>1.021732</td>\n",
       "      <td>0.021500</td>\n",
       "      <td>1.021732</td>\n",
       "    </tr>\n",
       "    <tr>\n",
       "      <th>2011-01-04</th>\n",
       "      <td>42.575382</td>\n",
       "      <td>40.850779</td>\n",
       "      <td>33.511923</td>\n",
       "      <td>1</td>\n",
       "      <td>0.005205</td>\n",
       "      <td>1.005219</td>\n",
       "      <td>0.005205</td>\n",
       "      <td>1.005219</td>\n",
       "    </tr>\n",
       "    <tr>\n",
       "      <th>2011-01-05</th>\n",
       "      <td>42.923655</td>\n",
       "      <td>40.898910</td>\n",
       "      <td>33.574665</td>\n",
       "      <td>1</td>\n",
       "      <td>0.008147</td>\n",
       "      <td>1.008180</td>\n",
       "      <td>0.008147</td>\n",
       "      <td>1.008180</td>\n",
       "    </tr>\n",
       "    <tr>\n",
       "      <th>2011-01-06</th>\n",
       "      <td>42.888956</td>\n",
       "      <td>40.949704</td>\n",
       "      <td>33.637469</td>\n",
       "      <td>1</td>\n",
       "      <td>-0.000809</td>\n",
       "      <td>0.999192</td>\n",
       "      <td>-0.000809</td>\n",
       "      <td>0.999192</td>\n",
       "    </tr>\n",
       "    <tr>\n",
       "      <th>2011-01-07</th>\n",
       "      <td>43.196105</td>\n",
       "      <td>41.003252</td>\n",
       "      <td>33.700777</td>\n",
       "      <td>1</td>\n",
       "      <td>0.007136</td>\n",
       "      <td>1.007161</td>\n",
       "      <td>0.007136</td>\n",
       "      <td>1.007161</td>\n",
       "    </tr>\n",
       "    <tr>\n",
       "      <th>2011-01-10</th>\n",
       "      <td>44.010241</td>\n",
       "      <td>41.083955</td>\n",
       "      <td>33.768270</td>\n",
       "      <td>1</td>\n",
       "      <td>0.018672</td>\n",
       "      <td>1.018847</td>\n",
       "      <td>0.018672</td>\n",
       "      <td>1.018847</td>\n",
       "    </tr>\n",
       "    <tr>\n",
       "      <th>2011-01-11</th>\n",
       "      <td>43.905502</td>\n",
       "      <td>41.156198</td>\n",
       "      <td>33.836566</td>\n",
       "      <td>1</td>\n",
       "      <td>-0.002383</td>\n",
       "      <td>0.997620</td>\n",
       "      <td>-0.002383</td>\n",
       "      <td>0.997620</td>\n",
       "    </tr>\n",
       "    <tr>\n",
       "      <th>2011-01-12</th>\n",
       "      <td>44.262770</td>\n",
       "      <td>41.241155</td>\n",
       "      <td>33.904786</td>\n",
       "      <td>1</td>\n",
       "      <td>0.008104</td>\n",
       "      <td>1.008137</td>\n",
       "      <td>0.008104</td>\n",
       "      <td>1.008137</td>\n",
       "    </tr>\n",
       "    <tr>\n",
       "      <th>2011-01-13</th>\n",
       "      <td>44.424698</td>\n",
       "      <td>41.356359</td>\n",
       "      <td>33.974270</td>\n",
       "      <td>1</td>\n",
       "      <td>0.003652</td>\n",
       "      <td>1.003658</td>\n",
       "      <td>0.003652</td>\n",
       "      <td>1.003658</td>\n",
       "    </tr>\n",
       "    <tr>\n",
       "      <th>2011-01-14</th>\n",
       "      <td>44.784537</td>\n",
       "      <td>41.483175</td>\n",
       "      <td>34.046967</td>\n",
       "      <td>1</td>\n",
       "      <td>0.008067</td>\n",
       "      <td>1.008100</td>\n",
       "      <td>0.008067</td>\n",
       "      <td>1.008100</td>\n",
       "    </tr>\n",
       "    <tr>\n",
       "      <th>2011-01-18</th>\n",
       "      <td>43.778273</td>\n",
       "      <td>41.602693</td>\n",
       "      <td>34.111025</td>\n",
       "      <td>1</td>\n",
       "      <td>-0.022725</td>\n",
       "      <td>0.977531</td>\n",
       "      <td>-0.022725</td>\n",
       "      <td>0.977531</td>\n",
       "    </tr>\n",
       "    <tr>\n",
       "      <th>2011-01-19</th>\n",
       "      <td>43.545663</td>\n",
       "      <td>41.720007</td>\n",
       "      <td>34.175851</td>\n",
       "      <td>1</td>\n",
       "      <td>-0.005328</td>\n",
       "      <td>0.994687</td>\n",
       "      <td>-0.005328</td>\n",
       "      <td>0.994687</td>\n",
       "    </tr>\n",
       "    <tr>\n",
       "      <th>2011-01-20</th>\n",
       "      <td>42.754017</td>\n",
       "      <td>41.794209</td>\n",
       "      <td>34.239398</td>\n",
       "      <td>1</td>\n",
       "      <td>-0.018347</td>\n",
       "      <td>0.981820</td>\n",
       "      <td>-0.018347</td>\n",
       "      <td>0.981820</td>\n",
       "    </tr>\n",
       "    <tr>\n",
       "      <th>2011-01-21</th>\n",
       "      <td>41.988074</td>\n",
       "      <td>41.855375</td>\n",
       "      <td>34.305169</td>\n",
       "      <td>1</td>\n",
       "      <td>-0.018078</td>\n",
       "      <td>0.982085</td>\n",
       "      <td>-0.018078</td>\n",
       "      <td>0.982085</td>\n",
       "    </tr>\n",
       "    <tr>\n",
       "      <th>2011-01-24</th>\n",
       "      <td>43.367028</td>\n",
       "      <td>41.929087</td>\n",
       "      <td>34.373697</td>\n",
       "      <td>1</td>\n",
       "      <td>0.032314</td>\n",
       "      <td>1.032842</td>\n",
       "      <td>0.032314</td>\n",
       "      <td>1.032842</td>\n",
       "    </tr>\n",
       "    <tr>\n",
       "      <th>2011-01-25</th>\n",
       "      <td>43.874658</td>\n",
       "      <td>42.029053</td>\n",
       "      <td>34.442779</td>\n",
       "      <td>1</td>\n",
       "      <td>0.011637</td>\n",
       "      <td>1.011705</td>\n",
       "      <td>0.011637</td>\n",
       "      <td>1.011705</td>\n",
       "    </tr>\n",
       "    <tr>\n",
       "      <th>2011-01-26</th>\n",
       "      <td>44.189517</td>\n",
       "      <td>42.117957</td>\n",
       "      <td>34.512118</td>\n",
       "      <td>1</td>\n",
       "      <td>0.007151</td>\n",
       "      <td>1.007176</td>\n",
       "      <td>0.007151</td>\n",
       "      <td>1.007176</td>\n",
       "    </tr>\n",
       "    <tr>\n",
       "      <th>2011-01-27</th>\n",
       "      <td>44.107269</td>\n",
       "      <td>42.204275</td>\n",
       "      <td>34.585514</td>\n",
       "      <td>1</td>\n",
       "      <td>-0.001863</td>\n",
       "      <td>0.998139</td>\n",
       "      <td>-0.001863</td>\n",
       "      <td>0.998139</td>\n",
       "    </tr>\n",
       "    <tr>\n",
       "      <th>2011-01-28</th>\n",
       "      <td>43.193534</td>\n",
       "      <td>42.263116</td>\n",
       "      <td>34.658969</td>\n",
       "      <td>1</td>\n",
       "      <td>-0.020934</td>\n",
       "      <td>0.979284</td>\n",
       "      <td>-0.020934</td>\n",
       "      <td>0.979284</td>\n",
       "    </tr>\n",
       "    <tr>\n",
       "      <th>2011-01-31</th>\n",
       "      <td>43.607349</td>\n",
       "      <td>42.349313</td>\n",
       "      <td>34.732707</td>\n",
       "      <td>1</td>\n",
       "      <td>0.009535</td>\n",
       "      <td>1.009580</td>\n",
       "      <td>0.009535</td>\n",
       "      <td>1.009580</td>\n",
       "    </tr>\n",
       "    <tr>\n",
       "      <th>2011-02-01</th>\n",
       "      <td>44.341164</td>\n",
       "      <td>42.436916</td>\n",
       "      <td>34.808780</td>\n",
       "      <td>1</td>\n",
       "      <td>0.016688</td>\n",
       "      <td>1.016828</td>\n",
       "      <td>0.016688</td>\n",
       "      <td>1.016828</td>\n",
       "    </tr>\n",
       "    <tr>\n",
       "      <th>2011-02-02</th>\n",
       "      <td>44.249919</td>\n",
       "      <td>42.516993</td>\n",
       "      <td>34.882772</td>\n",
       "      <td>1</td>\n",
       "      <td>-0.002060</td>\n",
       "      <td>0.997942</td>\n",
       "      <td>-0.002060</td>\n",
       "      <td>0.997942</td>\n",
       "    </tr>\n",
       "    <tr>\n",
       "      <th>2011-02-03</th>\n",
       "      <td>44.136827</td>\n",
       "      <td>42.596549</td>\n",
       "      <td>34.959977</td>\n",
       "      <td>1</td>\n",
       "      <td>-0.002559</td>\n",
       "      <td>0.997444</td>\n",
       "      <td>-0.002559</td>\n",
       "      <td>0.997444</td>\n",
       "    </tr>\n",
       "    <tr>\n",
       "      <th>2011-02-04</th>\n",
       "      <td>44.530079</td>\n",
       "      <td>42.677176</td>\n",
       "      <td>35.037004</td>\n",
       "      <td>1</td>\n",
       "      <td>0.008870</td>\n",
       "      <td>1.008910</td>\n",
       "      <td>0.008870</td>\n",
       "      <td>1.008910</td>\n",
       "    </tr>\n",
       "    <tr>\n",
       "      <th>2011-02-07</th>\n",
       "      <td>45.221484</td>\n",
       "      <td>42.780201</td>\n",
       "      <td>35.117458</td>\n",
       "      <td>1</td>\n",
       "      <td>0.015407</td>\n",
       "      <td>1.015527</td>\n",
       "      <td>0.015407</td>\n",
       "      <td>1.015527</td>\n",
       "    </tr>\n",
       "    <tr>\n",
       "      <th>2011-02-08</th>\n",
       "      <td>45.648151</td>\n",
       "      <td>42.884818</td>\n",
       "      <td>35.198549</td>\n",
       "      <td>1</td>\n",
       "      <td>0.009391</td>\n",
       "      <td>1.009435</td>\n",
       "      <td>0.009391</td>\n",
       "      <td>1.009435</td>\n",
       "    </tr>\n",
       "    <tr>\n",
       "      <th>2011-02-09</th>\n",
       "      <td>46.028552</td>\n",
       "      <td>43.002324</td>\n",
       "      <td>35.281698</td>\n",
       "      <td>1</td>\n",
       "      <td>0.008299</td>\n",
       "      <td>1.008333</td>\n",
       "      <td>0.008299</td>\n",
       "      <td>1.008333</td>\n",
       "    </tr>\n",
       "    <tr>\n",
       "      <th>2011-02-10</th>\n",
       "      <td>45.563331</td>\n",
       "      <td>43.106298</td>\n",
       "      <td>35.361188</td>\n",
       "      <td>1</td>\n",
       "      <td>-0.010159</td>\n",
       "      <td>0.989893</td>\n",
       "      <td>-0.010159</td>\n",
       "      <td>0.989893</td>\n",
       "    </tr>\n",
       "    <tr>\n",
       "      <th>2011-02-11</th>\n",
       "      <td>45.860199</td>\n",
       "      <td>43.213944</td>\n",
       "      <td>35.440984</td>\n",
       "      <td>1</td>\n",
       "      <td>0.006494</td>\n",
       "      <td>1.006515</td>\n",
       "      <td>0.006494</td>\n",
       "      <td>1.006515</td>\n",
       "    </tr>\n",
       "    <tr>\n",
       "      <th>...</th>\n",
       "      <td>...</td>\n",
       "      <td>...</td>\n",
       "      <td>...</td>\n",
       "      <td>...</td>\n",
       "      <td>...</td>\n",
       "      <td>...</td>\n",
       "      <td>...</td>\n",
       "      <td>...</td>\n",
       "    </tr>\n",
       "    <tr>\n",
       "      <th>2016-09-20</th>\n",
       "      <td>111.588120</td>\n",
       "      <td>105.214900</td>\n",
       "      <td>101.846515</td>\n",
       "      <td>1</td>\n",
       "      <td>-0.000088</td>\n",
       "      <td>0.999912</td>\n",
       "      <td>-0.000088</td>\n",
       "      <td>0.999912</td>\n",
       "    </tr>\n",
       "    <tr>\n",
       "      <th>2016-09-21</th>\n",
       "      <td>111.568469</td>\n",
       "      <td>105.575597</td>\n",
       "      <td>101.856342</td>\n",
       "      <td>1</td>\n",
       "      <td>-0.000176</td>\n",
       "      <td>0.999824</td>\n",
       "      <td>-0.000176</td>\n",
       "      <td>0.999824</td>\n",
       "    </tr>\n",
       "    <tr>\n",
       "      <th>2016-09-22</th>\n",
       "      <td>112.619797</td>\n",
       "      <td>105.992040</td>\n",
       "      <td>101.866829</td>\n",
       "      <td>1</td>\n",
       "      <td>0.009379</td>\n",
       "      <td>1.009423</td>\n",
       "      <td>0.009379</td>\n",
       "      <td>1.009423</td>\n",
       "    </tr>\n",
       "    <tr>\n",
       "      <th>2016-09-23</th>\n",
       "      <td>110.743128</td>\n",
       "      <td>106.379391</td>\n",
       "      <td>101.867272</td>\n",
       "      <td>1</td>\n",
       "      <td>-0.016804</td>\n",
       "      <td>0.983336</td>\n",
       "      <td>-0.016804</td>\n",
       "      <td>0.983336</td>\n",
       "    </tr>\n",
       "    <tr>\n",
       "      <th>2016-09-26</th>\n",
       "      <td>110.910161</td>\n",
       "      <td>106.624591</td>\n",
       "      <td>101.869486</td>\n",
       "      <td>1</td>\n",
       "      <td>0.001507</td>\n",
       "      <td>1.001508</td>\n",
       "      <td>0.001507</td>\n",
       "      <td>1.001508</td>\n",
       "    </tr>\n",
       "    <tr>\n",
       "      <th>2016-09-27</th>\n",
       "      <td>111.116497</td>\n",
       "      <td>106.842361</td>\n",
       "      <td>101.881184</td>\n",
       "      <td>1</td>\n",
       "      <td>0.001859</td>\n",
       "      <td>1.001860</td>\n",
       "      <td>0.001859</td>\n",
       "      <td>1.001860</td>\n",
       "    </tr>\n",
       "    <tr>\n",
       "      <th>2016-09-28</th>\n",
       "      <td>111.961489</td>\n",
       "      <td>107.083274</td>\n",
       "      <td>101.909138</td>\n",
       "      <td>1</td>\n",
       "      <td>0.007576</td>\n",
       "      <td>1.007605</td>\n",
       "      <td>0.007576</td>\n",
       "      <td>1.007605</td>\n",
       "    </tr>\n",
       "    <tr>\n",
       "      <th>2016-09-29</th>\n",
       "      <td>110.222377</td>\n",
       "      <td>107.239965</td>\n",
       "      <td>101.926794</td>\n",
       "      <td>1</td>\n",
       "      <td>-0.015655</td>\n",
       "      <td>0.984467</td>\n",
       "      <td>-0.015655</td>\n",
       "      <td>0.984467</td>\n",
       "    </tr>\n",
       "    <tr>\n",
       "      <th>2016-09-30</th>\n",
       "      <td>111.077195</td>\n",
       "      <td>107.453541</td>\n",
       "      <td>101.949254</td>\n",
       "      <td>1</td>\n",
       "      <td>0.007725</td>\n",
       "      <td>1.007755</td>\n",
       "      <td>0.007725</td>\n",
       "      <td>1.007755</td>\n",
       "    </tr>\n",
       "    <tr>\n",
       "      <th>2016-10-03</th>\n",
       "      <td>110.556443</td>\n",
       "      <td>107.624236</td>\n",
       "      <td>101.966593</td>\n",
       "      <td>1</td>\n",
       "      <td>-0.004699</td>\n",
       "      <td>0.995312</td>\n",
       "      <td>-0.004699</td>\n",
       "      <td>0.995312</td>\n",
       "    </tr>\n",
       "    <tr>\n",
       "      <th>2016-10-04</th>\n",
       "      <td>111.028067</td>\n",
       "      <td>107.791035</td>\n",
       "      <td>101.984278</td>\n",
       "      <td>1</td>\n",
       "      <td>0.004257</td>\n",
       "      <td>1.004266</td>\n",
       "      <td>0.004257</td>\n",
       "      <td>1.004266</td>\n",
       "    </tr>\n",
       "    <tr>\n",
       "      <th>2016-10-05</th>\n",
       "      <td>111.077195</td>\n",
       "      <td>107.921340</td>\n",
       "      <td>102.000133</td>\n",
       "      <td>1</td>\n",
       "      <td>0.000442</td>\n",
       "      <td>1.000442</td>\n",
       "      <td>0.000442</td>\n",
       "      <td>1.000442</td>\n",
       "    </tr>\n",
       "    <tr>\n",
       "      <th>2016-10-06</th>\n",
       "      <td>111.902536</td>\n",
       "      <td>108.050475</td>\n",
       "      <td>102.021288</td>\n",
       "      <td>1</td>\n",
       "      <td>0.007403</td>\n",
       "      <td>1.007430</td>\n",
       "      <td>0.007403</td>\n",
       "      <td>1.007430</td>\n",
       "    </tr>\n",
       "    <tr>\n",
       "      <th>2016-10-07</th>\n",
       "      <td>112.069569</td>\n",
       "      <td>108.173294</td>\n",
       "      <td>102.047991</td>\n",
       "      <td>1</td>\n",
       "      <td>0.001492</td>\n",
       "      <td>1.001493</td>\n",
       "      <td>0.001492</td>\n",
       "      <td>1.001493</td>\n",
       "    </tr>\n",
       "    <tr>\n",
       "      <th>2016-10-10</th>\n",
       "      <td>114.024842</td>\n",
       "      <td>108.361616</td>\n",
       "      <td>102.072452</td>\n",
       "      <td>1</td>\n",
       "      <td>0.017297</td>\n",
       "      <td>1.017447</td>\n",
       "      <td>0.017297</td>\n",
       "      <td>1.017447</td>\n",
       "    </tr>\n",
       "    <tr>\n",
       "      <th>2016-10-11</th>\n",
       "      <td>114.270480</td>\n",
       "      <td>108.557424</td>\n",
       "      <td>102.099872</td>\n",
       "      <td>1</td>\n",
       "      <td>0.002152</td>\n",
       "      <td>1.002154</td>\n",
       "      <td>0.002152</td>\n",
       "      <td>1.002154</td>\n",
       "    </tr>\n",
       "    <tr>\n",
       "      <th>2016-10-12</th>\n",
       "      <td>115.292331</td>\n",
       "      <td>108.771713</td>\n",
       "      <td>102.130623</td>\n",
       "      <td>1</td>\n",
       "      <td>0.008903</td>\n",
       "      <td>1.008942</td>\n",
       "      <td>0.008903</td>\n",
       "      <td>1.008942</td>\n",
       "    </tr>\n",
       "    <tr>\n",
       "      <th>2016-10-13</th>\n",
       "      <td>114.938613</td>\n",
       "      <td>108.947168</td>\n",
       "      <td>102.166001</td>\n",
       "      <td>1</td>\n",
       "      <td>-0.003073</td>\n",
       "      <td>0.996932</td>\n",
       "      <td>-0.003073</td>\n",
       "      <td>0.996932</td>\n",
       "    </tr>\n",
       "    <tr>\n",
       "      <th>2016-10-14</th>\n",
       "      <td>115.577270</td>\n",
       "      <td>109.140169</td>\n",
       "      <td>102.197615</td>\n",
       "      <td>1</td>\n",
       "      <td>0.005541</td>\n",
       "      <td>1.005557</td>\n",
       "      <td>0.005541</td>\n",
       "      <td>1.005557</td>\n",
       "    </tr>\n",
       "    <tr>\n",
       "      <th>2016-10-17</th>\n",
       "      <td>115.498666</td>\n",
       "      <td>109.335041</td>\n",
       "      <td>102.232047</td>\n",
       "      <td>1</td>\n",
       "      <td>-0.000680</td>\n",
       "      <td>0.999320</td>\n",
       "      <td>-0.000680</td>\n",
       "      <td>0.999320</td>\n",
       "    </tr>\n",
       "    <tr>\n",
       "      <th>2016-10-18</th>\n",
       "      <td>115.420062</td>\n",
       "      <td>109.531317</td>\n",
       "      <td>102.263533</td>\n",
       "      <td>1</td>\n",
       "      <td>-0.000681</td>\n",
       "      <td>0.999319</td>\n",
       "      <td>-0.000681</td>\n",
       "      <td>0.999319</td>\n",
       "    </tr>\n",
       "    <tr>\n",
       "      <th>2016-10-19</th>\n",
       "      <td>115.076170</td>\n",
       "      <td>109.712855</td>\n",
       "      <td>102.285866</td>\n",
       "      <td>1</td>\n",
       "      <td>-0.002984</td>\n",
       "      <td>0.997021</td>\n",
       "      <td>-0.002984</td>\n",
       "      <td>0.997021</td>\n",
       "    </tr>\n",
       "    <tr>\n",
       "      <th>2016-10-20</th>\n",
       "      <td>115.017217</td>\n",
       "      <td>109.912874</td>\n",
       "      <td>102.308004</td>\n",
       "      <td>1</td>\n",
       "      <td>-0.000512</td>\n",
       "      <td>0.999488</td>\n",
       "      <td>-0.000512</td>\n",
       "      <td>0.999488</td>\n",
       "    </tr>\n",
       "    <tr>\n",
       "      <th>2016-10-21</th>\n",
       "      <td>114.565244</td>\n",
       "      <td>110.094177</td>\n",
       "      <td>102.321706</td>\n",
       "      <td>1</td>\n",
       "      <td>-0.003937</td>\n",
       "      <td>0.996070</td>\n",
       "      <td>-0.003937</td>\n",
       "      <td>0.996070</td>\n",
       "    </tr>\n",
       "    <tr>\n",
       "      <th>2016-10-24</th>\n",
       "      <td>115.596921</td>\n",
       "      <td>110.319228</td>\n",
       "      <td>102.325836</td>\n",
       "      <td>1</td>\n",
       "      <td>0.008965</td>\n",
       "      <td>1.009005</td>\n",
       "      <td>0.008965</td>\n",
       "      <td>1.009005</td>\n",
       "    </tr>\n",
       "    <tr>\n",
       "      <th>2016-10-25</th>\n",
       "      <td>116.186451</td>\n",
       "      <td>110.569076</td>\n",
       "      <td>102.346811</td>\n",
       "      <td>1</td>\n",
       "      <td>0.005087</td>\n",
       "      <td>1.005100</td>\n",
       "      <td>0.005087</td>\n",
       "      <td>1.005100</td>\n",
       "    </tr>\n",
       "    <tr>\n",
       "      <th>2016-10-26</th>\n",
       "      <td>113.572870</td>\n",
       "      <td>110.771435</td>\n",
       "      <td>102.360201</td>\n",
       "      <td>1</td>\n",
       "      <td>-0.022752</td>\n",
       "      <td>0.977505</td>\n",
       "      <td>-0.022752</td>\n",
       "      <td>0.977505</td>\n",
       "    </tr>\n",
       "    <tr>\n",
       "      <th>2016-10-27</th>\n",
       "      <td>112.482240</td>\n",
       "      <td>110.950633</td>\n",
       "      <td>102.351246</td>\n",
       "      <td>1</td>\n",
       "      <td>-0.009649</td>\n",
       "      <td>0.990397</td>\n",
       "      <td>-0.009649</td>\n",
       "      <td>0.990397</td>\n",
       "    </tr>\n",
       "    <tr>\n",
       "      <th>2016-10-28</th>\n",
       "      <td>111.735503</td>\n",
       "      <td>111.131235</td>\n",
       "      <td>102.334516</td>\n",
       "      <td>1</td>\n",
       "      <td>-0.006661</td>\n",
       "      <td>0.993361</td>\n",
       "      <td>-0.006661</td>\n",
       "      <td>0.993361</td>\n",
       "    </tr>\n",
       "    <tr>\n",
       "      <th>2016-10-31</th>\n",
       "      <td>111.558644</td>\n",
       "      <td>111.305286</td>\n",
       "      <td>102.321017</td>\n",
       "      <td>1</td>\n",
       "      <td>-0.001584</td>\n",
       "      <td>0.998417</td>\n",
       "      <td>-0.001584</td>\n",
       "      <td>0.998417</td>\n",
       "    </tr>\n",
       "  </tbody>\n",
       "</table>\n",
       "<p>1469 rows × 8 columns</p>\n",
       "</div>"
      ],
      "text/plain": [
       "                 price        SMA1        SMA2  position   returns  test_ret  \\\n",
       "Date                                                                           \n",
       "2010-12-31   41.453456   40.732362   33.393369         1       NaN       NaN   \n",
       "2011-01-03   42.354338   40.794202   33.452302         1  0.021500  1.021732   \n",
       "2011-01-04   42.575382   40.850779   33.511923         1  0.005205  1.005219   \n",
       "2011-01-05   42.923655   40.898910   33.574665         1  0.008147  1.008180   \n",
       "2011-01-06   42.888956   40.949704   33.637469         1 -0.000809  0.999192   \n",
       "2011-01-07   43.196105   41.003252   33.700777         1  0.007136  1.007161   \n",
       "2011-01-10   44.010241   41.083955   33.768270         1  0.018672  1.018847   \n",
       "2011-01-11   43.905502   41.156198   33.836566         1 -0.002383  0.997620   \n",
       "2011-01-12   44.262770   41.241155   33.904786         1  0.008104  1.008137   \n",
       "2011-01-13   44.424698   41.356359   33.974270         1  0.003652  1.003658   \n",
       "2011-01-14   44.784537   41.483175   34.046967         1  0.008067  1.008100   \n",
       "2011-01-18   43.778273   41.602693   34.111025         1 -0.022725  0.977531   \n",
       "2011-01-19   43.545663   41.720007   34.175851         1 -0.005328  0.994687   \n",
       "2011-01-20   42.754017   41.794209   34.239398         1 -0.018347  0.981820   \n",
       "2011-01-21   41.988074   41.855375   34.305169         1 -0.018078  0.982085   \n",
       "2011-01-24   43.367028   41.929087   34.373697         1  0.032314  1.032842   \n",
       "2011-01-25   43.874658   42.029053   34.442779         1  0.011637  1.011705   \n",
       "2011-01-26   44.189517   42.117957   34.512118         1  0.007151  1.007176   \n",
       "2011-01-27   44.107269   42.204275   34.585514         1 -0.001863  0.998139   \n",
       "2011-01-28   43.193534   42.263116   34.658969         1 -0.020934  0.979284   \n",
       "2011-01-31   43.607349   42.349313   34.732707         1  0.009535  1.009580   \n",
       "2011-02-01   44.341164   42.436916   34.808780         1  0.016688  1.016828   \n",
       "2011-02-02   44.249919   42.516993   34.882772         1 -0.002060  0.997942   \n",
       "2011-02-03   44.136827   42.596549   34.959977         1 -0.002559  0.997444   \n",
       "2011-02-04   44.530079   42.677176   35.037004         1  0.008870  1.008910   \n",
       "2011-02-07   45.221484   42.780201   35.117458         1  0.015407  1.015527   \n",
       "2011-02-08   45.648151   42.884818   35.198549         1  0.009391  1.009435   \n",
       "2011-02-09   46.028552   43.002324   35.281698         1  0.008299  1.008333   \n",
       "2011-02-10   45.563331   43.106298   35.361188         1 -0.010159  0.989893   \n",
       "2011-02-11   45.860199   43.213944   35.440984         1  0.006494  1.006515   \n",
       "...                ...         ...         ...       ...       ...       ...   \n",
       "2016-09-20  111.588120  105.214900  101.846515         1 -0.000088  0.999912   \n",
       "2016-09-21  111.568469  105.575597  101.856342         1 -0.000176  0.999824   \n",
       "2016-09-22  112.619797  105.992040  101.866829         1  0.009379  1.009423   \n",
       "2016-09-23  110.743128  106.379391  101.867272         1 -0.016804  0.983336   \n",
       "2016-09-26  110.910161  106.624591  101.869486         1  0.001507  1.001508   \n",
       "2016-09-27  111.116497  106.842361  101.881184         1  0.001859  1.001860   \n",
       "2016-09-28  111.961489  107.083274  101.909138         1  0.007576  1.007605   \n",
       "2016-09-29  110.222377  107.239965  101.926794         1 -0.015655  0.984467   \n",
       "2016-09-30  111.077195  107.453541  101.949254         1  0.007725  1.007755   \n",
       "2016-10-03  110.556443  107.624236  101.966593         1 -0.004699  0.995312   \n",
       "2016-10-04  111.028067  107.791035  101.984278         1  0.004257  1.004266   \n",
       "2016-10-05  111.077195  107.921340  102.000133         1  0.000442  1.000442   \n",
       "2016-10-06  111.902536  108.050475  102.021288         1  0.007403  1.007430   \n",
       "2016-10-07  112.069569  108.173294  102.047991         1  0.001492  1.001493   \n",
       "2016-10-10  114.024842  108.361616  102.072452         1  0.017297  1.017447   \n",
       "2016-10-11  114.270480  108.557424  102.099872         1  0.002152  1.002154   \n",
       "2016-10-12  115.292331  108.771713  102.130623         1  0.008903  1.008942   \n",
       "2016-10-13  114.938613  108.947168  102.166001         1 -0.003073  0.996932   \n",
       "2016-10-14  115.577270  109.140169  102.197615         1  0.005541  1.005557   \n",
       "2016-10-17  115.498666  109.335041  102.232047         1 -0.000680  0.999320   \n",
       "2016-10-18  115.420062  109.531317  102.263533         1 -0.000681  0.999319   \n",
       "2016-10-19  115.076170  109.712855  102.285866         1 -0.002984  0.997021   \n",
       "2016-10-20  115.017217  109.912874  102.308004         1 -0.000512  0.999488   \n",
       "2016-10-21  114.565244  110.094177  102.321706         1 -0.003937  0.996070   \n",
       "2016-10-24  115.596921  110.319228  102.325836         1  0.008965  1.009005   \n",
       "2016-10-25  116.186451  110.569076  102.346811         1  0.005087  1.005100   \n",
       "2016-10-26  113.572870  110.771435  102.360201         1 -0.022752  0.977505   \n",
       "2016-10-27  112.482240  110.950633  102.351246         1 -0.009649  0.990397   \n",
       "2016-10-28  111.735503  111.131235  102.334516         1 -0.006661  0.993361   \n",
       "2016-10-31  111.558644  111.305286  102.321017         1 -0.001584  0.998417   \n",
       "\n",
       "            strategy  test_strat  \n",
       "Date                              \n",
       "2010-12-31       NaN         NaN  \n",
       "2011-01-03  0.021500    1.021732  \n",
       "2011-01-04  0.005205    1.005219  \n",
       "2011-01-05  0.008147    1.008180  \n",
       "2011-01-06 -0.000809    0.999192  \n",
       "2011-01-07  0.007136    1.007161  \n",
       "2011-01-10  0.018672    1.018847  \n",
       "2011-01-11 -0.002383    0.997620  \n",
       "2011-01-12  0.008104    1.008137  \n",
       "2011-01-13  0.003652    1.003658  \n",
       "2011-01-14  0.008067    1.008100  \n",
       "2011-01-18 -0.022725    0.977531  \n",
       "2011-01-19 -0.005328    0.994687  \n",
       "2011-01-20 -0.018347    0.981820  \n",
       "2011-01-21 -0.018078    0.982085  \n",
       "2011-01-24  0.032314    1.032842  \n",
       "2011-01-25  0.011637    1.011705  \n",
       "2011-01-26  0.007151    1.007176  \n",
       "2011-01-27 -0.001863    0.998139  \n",
       "2011-01-28 -0.020934    0.979284  \n",
       "2011-01-31  0.009535    1.009580  \n",
       "2011-02-01  0.016688    1.016828  \n",
       "2011-02-02 -0.002060    0.997942  \n",
       "2011-02-03 -0.002559    0.997444  \n",
       "2011-02-04  0.008870    1.008910  \n",
       "2011-02-07  0.015407    1.015527  \n",
       "2011-02-08  0.009391    1.009435  \n",
       "2011-02-09  0.008299    1.008333  \n",
       "2011-02-10 -0.010159    0.989893  \n",
       "2011-02-11  0.006494    1.006515  \n",
       "...              ...         ...  \n",
       "2016-09-20 -0.000088    0.999912  \n",
       "2016-09-21 -0.000176    0.999824  \n",
       "2016-09-22  0.009379    1.009423  \n",
       "2016-09-23 -0.016804    0.983336  \n",
       "2016-09-26  0.001507    1.001508  \n",
       "2016-09-27  0.001859    1.001860  \n",
       "2016-09-28  0.007576    1.007605  \n",
       "2016-09-29 -0.015655    0.984467  \n",
       "2016-09-30  0.007725    1.007755  \n",
       "2016-10-03 -0.004699    0.995312  \n",
       "2016-10-04  0.004257    1.004266  \n",
       "2016-10-05  0.000442    1.000442  \n",
       "2016-10-06  0.007403    1.007430  \n",
       "2016-10-07  0.001492    1.001493  \n",
       "2016-10-10  0.017297    1.017447  \n",
       "2016-10-11  0.002152    1.002154  \n",
       "2016-10-12  0.008903    1.008942  \n",
       "2016-10-13 -0.003073    0.996932  \n",
       "2016-10-14  0.005541    1.005557  \n",
       "2016-10-17 -0.000680    0.999320  \n",
       "2016-10-18 -0.000681    0.999319  \n",
       "2016-10-19 -0.002984    0.997021  \n",
       "2016-10-20 -0.000512    0.999488  \n",
       "2016-10-21 -0.003937    0.996070  \n",
       "2016-10-24  0.008965    1.009005  \n",
       "2016-10-25  0.005087    1.005100  \n",
       "2016-10-26 -0.022752    0.977505  \n",
       "2016-10-27 -0.009649    0.990397  \n",
       "2016-10-28 -0.006661    0.993361  \n",
       "2016-10-31 -0.001584    0.998417  \n",
       "\n",
       "[1469 rows x 8 columns]"
      ]
     },
     "execution_count": 62,
     "metadata": {},
     "output_type": "execute_result"
    }
   ],
   "source": [
    "data['test_strat'] = data['position'].shift(1) * data['test_ret']\n",
    "data"
   ]
  },
  {
   "cell_type": "code",
   "execution_count": 63,
   "metadata": {},
   "outputs": [
    {
     "data": {
      "text/plain": [
       "returns     0.989979\n",
       "strategy    1.170623\n",
       "dtype: float64"
      ]
     },
     "execution_count": 63,
     "metadata": {},
     "output_type": "execute_result"
    }
   ],
   "source": [
    "data[['returns', 'strategy']].sum()"
   ]
  },
  {
   "cell_type": "code",
   "execution_count": 64,
   "metadata": {},
   "outputs": [
    {
     "data": {
      "text/plain": [
       "<matplotlib.axes._subplots.AxesSubplot at 0x123e2feb8>"
      ]
     },
     "execution_count": 64,
     "metadata": {},
     "output_type": "execute_result"
    },
    {
     "data": {
      "image/png": "[encoded data removed]",
      "text/plain": [
       "<Figure size 720x432 with 1 Axes>"
      ]
     },
     "metadata": {
      "needs_background": "light"
     },
     "output_type": "display_data"
    }
   ],
   "source": [
    "data[['returns', 'strategy']].cumsum().plot(figsize=(10, 6))"
   ]
  },
  {
   "cell_type": "code",
   "execution_count": 65,
   "metadata": {},
   "outputs": [],
   "source": [
    "#data[['test_ret', 'test_strat']].cumsum().plot(figsize=(10, 6))"
   ]
  },
  {
   "cell_type": "code",
   "execution_count": 66,
   "metadata": {},
   "outputs": [
    {
     "data": {
      "text/plain": [
       "<matplotlib.axes._subplots.AxesSubplot at 0x123f3f4a8>"
      ]
     },
     "execution_count": 66,
     "metadata": {},
     "output_type": "execute_result"
    },
    {
     "data": {
      "image/png": "[encoded data removed]",
      "text/plain": [
       "<Figure size 720x432 with 1 Axes>"
      ]
     },
     "metadata": {
      "needs_background": "light"
     },
     "output_type": "display_data"
    }
   ],
   "source": [
    "data[['test_ret', 'test_strat']].cumprod().plot(figsize=(10, 6))"
   ]
  },
  {
   "cell_type": "code",
   "execution_count": 67,
   "metadata": {},
   "outputs": [
    {
     "data": {
      "text/plain": [
       "<matplotlib.axes._subplots.AxesSubplot at 0x12406bcf8>"
      ]
     },
     "execution_count": 67,
     "metadata": {},
     "output_type": "execute_result"
    },
    {
     "data": {
      "image/png": "[encoded data removed]",
      "text/plain": [
       "<Figure size 720x432 with 1 Axes>"
      ]
     },
     "metadata": {
      "needs_background": "light"
     },
     "output_type": "display_data"
    }
   ],
   "source": [
    "data[['returns', 'strategy']].cumsum().apply(np.exp).plot(figsize=(10, 6))\n",
    "# plt.savefig('../../images/ch04/sma_plot_4.png')"
   ]
  },
  {
   "cell_type": "code",
   "execution_count": 68,
   "metadata": {},
   "outputs": [
    {
     "data": {
      "text/plain": [
       "returns     0.169942\n",
       "strategy    0.200952\n",
       "dtype: float64"
      ]
     },
     "execution_count": 68,
     "metadata": {},
     "output_type": "execute_result"
    }
   ],
   "source": [
    "data[['returns', 'strategy']].mean() * 252"
   ]
  },
  {
   "cell_type": "code",
   "execution_count": 69,
   "metadata": {},
   "outputs": [
    {
     "data": {
      "text/plain": [
       "returns     0.263673\n",
       "strategy    0.263586\n",
       "dtype: float64"
      ]
     },
     "execution_count": 69,
     "metadata": {},
     "output_type": "execute_result"
    }
   ],
   "source": [
    "data[['returns', 'strategy']].std() * 252 ** 0.5"
   ]
  },
  {
   "cell_type": "code",
   "execution_count": 70,
   "metadata": {},
   "outputs": [],
   "source": [
    "data['cumret'] = data['strategy'].cumsum().apply(np.exp)"
   ]
  },
  {
   "cell_type": "code",
   "execution_count": 71,
   "metadata": {},
   "outputs": [],
   "source": [
    "data['cummax'] = data['cumret'].cummax()"
   ]
  },
  {
   "cell_type": "code",
   "execution_count": 72,
   "metadata": {},
   "outputs": [
    {
     "data": {
      "text/plain": [
       "<matplotlib.axes._subplots.AxesSubplot at 0x124461518>"
      ]
     },
     "execution_count": 72,
     "metadata": {},
     "output_type": "execute_result"
    },
    {
     "data": {
      "image/png": "[encoded data removed]",
      "text/plain": [
       "<Figure size 720x432 with 1 Axes>"
      ]
     },
     "metadata": {
      "needs_background": "light"
     },
     "output_type": "display_data"
    }
   ],
   "source": [
    "data[['cumret', 'cummax']].plot(figsize=(10, 6))\n",
    "# plt.savefig('../../images/ch04/sma_plot_5.png')"
   ]
  },
  {
   "cell_type": "code",
   "execution_count": 73,
   "metadata": {},
   "outputs": [
    {
     "data": {
      "text/plain": [
       "Date\n",
       "2010-12-31         NaN\n",
       "2011-01-03    0.000000\n",
       "2011-01-04    0.000000\n",
       "2011-01-05    0.000000\n",
       "2011-01-06    0.000837\n",
       "2011-01-07    0.000000\n",
       "2011-01-10    0.000000\n",
       "2011-01-11    0.002527\n",
       "2011-01-12    0.000000\n",
       "2011-01-13    0.000000\n",
       "2011-01-14    0.000000\n",
       "2011-01-18    0.024275\n",
       "2011-01-19    0.029886\n",
       "2011-01-20    0.048983\n",
       "2011-01-21    0.067460\n",
       "2011-01-24    0.034195\n",
       "2011-01-25    0.021949\n",
       "2011-01-26    0.014354\n",
       "2011-01-27    0.016338\n",
       "2011-01-28    0.038380\n",
       "2011-01-31    0.028398\n",
       "2011-02-01    0.010696\n",
       "2011-02-02    0.012897\n",
       "2011-02-03    0.015625\n",
       "2011-02-04    0.006138\n",
       "2011-02-07    0.000000\n",
       "2011-02-08    0.000000\n",
       "2011-02-09    0.000000\n",
       "2011-02-10    0.011223\n",
       "2011-02-11    0.004061\n",
       "                ...   \n",
       "2016-09-20    0.442658\n",
       "2016-09-21    0.443226\n",
       "2016-09-22    0.412843\n",
       "2016-09-23    0.467078\n",
       "2016-09-26    0.462251\n",
       "2016-09-27    0.456288\n",
       "2016-09-28    0.431868\n",
       "2016-09-29    0.482128\n",
       "2016-09-30    0.457424\n",
       "2016-10-03    0.472473\n",
       "2016-10-04    0.458844\n",
       "2016-10-05    0.457424\n",
       "2016-10-06    0.433572\n",
       "2016-10-07    0.428745\n",
       "2016-10-10    0.372238\n",
       "2016-10-11    0.365139\n",
       "2016-10-12    0.335608\n",
       "2016-10-13    0.345830\n",
       "2016-10-14    0.327373\n",
       "2016-10-17    0.329645\n",
       "2016-10-18    0.331917\n",
       "2016-10-19    0.341855\n",
       "2016-10-20    0.343559\n",
       "2016-10-21    0.356621\n",
       "2016-10-24    0.326806\n",
       "2016-10-25    0.309768\n",
       "2016-10-26    0.385300\n",
       "2016-10-27    0.416819\n",
       "2016-10-28    0.438399\n",
       "2016-10-31    0.443510\n",
       "Length: 1469, dtype: float64"
      ]
     },
     "execution_count": 73,
     "metadata": {},
     "output_type": "execute_result"
    }
   ],
   "source": [
    "drawdown = (data['cummax'] - data['cumret'])\n",
    "drawdown"
   ]
  },
  {
   "cell_type": "code",
   "execution_count": 74,
   "metadata": {},
   "outputs": [
    {
     "data": {
      "text/plain": [
       "0.7656021075886366"
      ]
     },
     "execution_count": 74,
     "metadata": {},
     "output_type": "execute_result"
    }
   ],
   "source": [
    "drawdown.max()"
   ]
  },
  {
   "cell_type": "code",
   "execution_count": 75,
   "metadata": {},
   "outputs": [
    {
     "data": {
      "text/plain": [
       "Date\n",
       "2011-01-03    0.0\n",
       "2011-01-04    0.0\n",
       "2011-01-05    0.0\n",
       "2011-01-07    0.0\n",
       "2011-01-10    0.0\n",
       "2011-01-12    0.0\n",
       "2011-01-13    0.0\n",
       "2011-01-14    0.0\n",
       "2011-02-07    0.0\n",
       "2011-02-08    0.0\n",
       "2011-02-09    0.0\n",
       "2011-02-14    0.0\n",
       "2011-02-15    0.0\n",
       "2011-02-16    0.0\n",
       "2011-07-15    0.0\n",
       "2011-07-18    0.0\n",
       "2011-07-19    0.0\n",
       "2011-07-20    0.0\n",
       "2011-07-21    0.0\n",
       "2011-07-22    0.0\n",
       "2011-07-25    0.0\n",
       "2011-07-26    0.0\n",
       "2011-09-19    0.0\n",
       "2011-09-20    0.0\n",
       "2011-10-14    0.0\n",
       "2011-10-18    0.0\n",
       "2012-01-06    0.0\n",
       "2012-01-10    0.0\n",
       "2012-01-17    0.0\n",
       "2012-01-18    0.0\n",
       "             ... \n",
       "2014-09-02    0.0\n",
       "2014-10-23    0.0\n",
       "2014-10-24    0.0\n",
       "2014-10-28    0.0\n",
       "2014-10-29    0.0\n",
       "2014-10-31    0.0\n",
       "2014-11-03    0.0\n",
       "2014-11-07    0.0\n",
       "2014-11-11    0.0\n",
       "2014-11-12    0.0\n",
       "2014-11-13    0.0\n",
       "2014-11-14    0.0\n",
       "2014-11-18    0.0\n",
       "2014-11-20    0.0\n",
       "2014-11-21    0.0\n",
       "2014-11-24    0.0\n",
       "2014-11-26    0.0\n",
       "2015-02-04    0.0\n",
       "2015-02-05    0.0\n",
       "2015-02-10    0.0\n",
       "2015-02-11    0.0\n",
       "2015-02-12    0.0\n",
       "2015-02-13    0.0\n",
       "2015-02-17    0.0\n",
       "2015-02-18    0.0\n",
       "2015-02-20    0.0\n",
       "2015-02-23    0.0\n",
       "2015-05-22    0.0\n",
       "2016-01-27    0.0\n",
       "2016-05-12    0.0\n",
       "Length: 133, dtype: float64"
      ]
     },
     "execution_count": 75,
     "metadata": {},
     "output_type": "execute_result"
    }
   ],
   "source": [
    "temp = drawdown[drawdown == 0]\n",
    "temp"
   ]
  },
  {
   "cell_type": "code",
   "execution_count": 76,
   "metadata": {},
   "outputs": [
    {
     "data": {
      "text/plain": [
       "array([datetime.timedelta(days=1), datetime.timedelta(days=1),\n",
       "       datetime.timedelta(days=2), datetime.timedelta(days=3),\n",
       "       datetime.timedelta(days=2), datetime.timedelta(days=1),\n",
       "       datetime.timedelta(days=1), datetime.timedelta(days=24),\n",
       "       datetime.timedelta(days=1), datetime.timedelta(days=1),\n",
       "       datetime.timedelta(days=5), datetime.timedelta(days=1),\n",
       "       datetime.timedelta(days=1), datetime.timedelta(days=149),\n",
       "       datetime.timedelta(days=3), datetime.timedelta(days=1),\n",
       "       datetime.timedelta(days=1), datetime.timedelta(days=1),\n",
       "       datetime.timedelta(days=1), datetime.timedelta(days=3),\n",
       "       datetime.timedelta(days=1), datetime.timedelta(days=55),\n",
       "       datetime.timedelta(days=1), datetime.timedelta(days=24),\n",
       "       datetime.timedelta(days=4), datetime.timedelta(days=80),\n",
       "       datetime.timedelta(days=4), datetime.timedelta(days=7),\n",
       "       datetime.timedelta(days=1), datetime.timedelta(days=7),\n",
       "       datetime.timedelta(days=2), datetime.timedelta(days=3),\n",
       "       datetime.timedelta(days=1), datetime.timedelta(days=3),\n",
       "       datetime.timedelta(days=3), datetime.timedelta(days=1),\n",
       "       datetime.timedelta(days=1), datetime.timedelta(days=1),\n",
       "       datetime.timedelta(days=1), datetime.timedelta(days=3),\n",
       "       datetime.timedelta(days=1), datetime.timedelta(days=7),\n",
       "       datetime.timedelta(days=2), datetime.timedelta(days=1),\n",
       "       datetime.timedelta(days=3), datetime.timedelta(days=1),\n",
       "       datetime.timedelta(days=1), datetime.timedelta(days=1),\n",
       "       datetime.timedelta(days=1), datetime.timedelta(days=10),\n",
       "       datetime.timedelta(days=1), datetime.timedelta(days=1),\n",
       "       datetime.timedelta(days=5), datetime.timedelta(days=1),\n",
       "       datetime.timedelta(days=6), datetime.timedelta(days=1),\n",
       "       datetime.timedelta(days=1), datetime.timedelta(days=5),\n",
       "       datetime.timedelta(days=1), datetime.timedelta(days=2),\n",
       "       datetime.timedelta(days=4), datetime.timedelta(days=129),\n",
       "       datetime.timedelta(days=1), datetime.timedelta(days=3),\n",
       "       datetime.timedelta(days=2), datetime.timedelta(days=5),\n",
       "       datetime.timedelta(days=10), datetime.timedelta(days=1),\n",
       "       datetime.timedelta(days=6), datetime.timedelta(days=1),\n",
       "       datetime.timedelta(days=3), datetime.timedelta(days=1),\n",
       "       datetime.timedelta(days=1), datetime.timedelta(days=211),\n",
       "       datetime.timedelta(days=1), datetime.timedelta(days=381),\n",
       "       datetime.timedelta(days=14), datetime.timedelta(days=1),\n",
       "       datetime.timedelta(days=1), datetime.timedelta(days=1),\n",
       "       datetime.timedelta(days=1), datetime.timedelta(days=4),\n",
       "       datetime.timedelta(days=2), datetime.timedelta(days=5),\n",
       "       datetime.timedelta(days=1), datetime.timedelta(days=1),\n",
       "       datetime.timedelta(days=4), datetime.timedelta(days=1),\n",
       "       datetime.timedelta(days=27), datetime.timedelta(days=7),\n",
       "       datetime.timedelta(days=9), datetime.timedelta(days=2),\n",
       "       datetime.timedelta(days=3), datetime.timedelta(days=21),\n",
       "       datetime.timedelta(days=1), datetime.timedelta(days=1),\n",
       "       datetime.timedelta(days=1), datetime.timedelta(days=1),\n",
       "       datetime.timedelta(days=3), datetime.timedelta(days=2),\n",
       "       datetime.timedelta(days=1), datetime.timedelta(days=1),\n",
       "       datetime.timedelta(days=4), datetime.timedelta(days=51),\n",
       "       datetime.timedelta(days=1), datetime.timedelta(days=4),\n",
       "       datetime.timedelta(days=1), datetime.timedelta(days=2),\n",
       "       datetime.timedelta(days=3), datetime.timedelta(days=4),\n",
       "       datetime.timedelta(days=4), datetime.timedelta(days=1),\n",
       "       datetime.timedelta(days=1), datetime.timedelta(days=1),\n",
       "       datetime.timedelta(days=4), datetime.timedelta(days=2),\n",
       "       datetime.timedelta(days=1), datetime.timedelta(days=3),\n",
       "       datetime.timedelta(days=2), datetime.timedelta(days=70),\n",
       "       datetime.timedelta(days=1), datetime.timedelta(days=5),\n",
       "       datetime.timedelta(days=1), datetime.timedelta(days=1),\n",
       "       datetime.timedelta(days=1), datetime.timedelta(days=4),\n",
       "       datetime.timedelta(days=1), datetime.timedelta(days=2),\n",
       "       datetime.timedelta(days=3), datetime.timedelta(days=88),\n",
       "       datetime.timedelta(days=250), datetime.timedelta(days=106)],\n",
       "      dtype=object)"
      ]
     },
     "execution_count": 76,
     "metadata": {},
     "output_type": "execute_result"
    }
   ],
   "source": [
    "periods = (temp.index[1:].to_pydatetime() - temp.index[:-1].to_pydatetime())\n",
    "periods"
   ]
  },
  {
   "cell_type": "code",
   "execution_count": 77,
   "metadata": {},
   "outputs": [
    {
     "data": {
      "text/plain": [
       "array([datetime.timedelta(days=1), datetime.timedelta(days=149),\n",
       "       datetime.timedelta(days=3)], dtype=object)"
      ]
     },
     "execution_count": 77,
     "metadata": {},
     "output_type": "execute_result"
    }
   ],
   "source": [
    "periods[12:15]"
   ]
  },
  {
   "cell_type": "code",
   "execution_count": 78,
   "metadata": {},
   "outputs": [
    {
     "data": {
      "text/plain": [
       "datetime.timedelta(days=381)"
      ]
     },
     "execution_count": 78,
     "metadata": {},
     "output_type": "execute_result"
    }
   ],
   "source": [
    "periods.max()"
   ]
  },
  {
   "cell_type": "markdown",
   "metadata": {},
   "source": [
    "### Generalizing the Approach"
   ]
  },
  {
   "cell_type": "code",
   "execution_count": 79,
   "metadata": {},
   "outputs": [],
   "source": [
    "import SMAVectorBacktester as SMA"
   ]
  },
  {
   "cell_type": "code",
   "execution_count": 80,
   "metadata": {},
   "outputs": [],
   "source": [
    "#from importlib import reload\n",
    "#reload(SMA)"
   ]
  },
  {
   "cell_type": "code",
   "execution_count": 81,
   "metadata": {},
   "outputs": [],
   "source": [
    "smabt = SMA.SMAVectorBacktester('AAPL', 42, 252, '2010-1-1', '2016-10-31')"
   ]
  },
  {
   "cell_type": "code",
   "execution_count": 82,
   "metadata": {},
   "outputs": [
    {
     "data": {
      "text/plain": [
       "(3.22, 0.54)"
      ]
     },
     "execution_count": 82,
     "metadata": {},
     "output_type": "execute_result"
    }
   ],
   "source": [
    "smabt.run_strategy()"
   ]
  },
  {
   "cell_type": "code",
   "execution_count": 83,
   "metadata": {},
   "outputs": [
    {
     "name": "stdout",
     "output_type": "stream",
     "text": [
      "CPU times: user 24.9 s, sys: 260 ms, total: 25.1 s\n",
      "Wall time: 25.4 s\n"
     ]
    },
    {
     "data": {
      "text/plain": [
       "(array([ 42., 230.]), 4.14)"
      ]
     },
     "execution_count": 83,
     "metadata": {},
     "output_type": "execute_result"
    }
   ],
   "source": [
    "%time smabt.optimize_parameters((30, 50, 2), (200, 300, 2))"
   ]
  },
  {
   "cell_type": "code",
   "execution_count": 84,
   "metadata": {},
   "outputs": [
    {
     "data": {
      "image/png": "[encoded data removed]",
      "text/plain": [
       "<Figure size 720x432 with 1 Axes>"
      ]
     },
     "metadata": {
      "needs_background": "light"
     },
     "output_type": "display_data"
    }
   ],
   "source": [
    "smabt.plot_results()\n",
    "# plt.savefig('../../images/ch04/sma_plot_6.png')"
   ]
  },
  {
   "cell_type": "markdown",
   "metadata": {},
   "source": [
    "## Strategies based on Momentum"
   ]
  },
  {
   "cell_type": "markdown",
   "metadata": {},
   "source": [
    "### Getting into the Basics"
   ]
  },
  {
   "cell_type": "code",
   "execution_count": 85,
   "metadata": {},
   "outputs": [],
   "source": [
    "%matplotlib inline\n",
    "import numpy as np"
   ]
  },
  {
   "cell_type": "code",
   "execution_count": 86,
   "metadata": {},
   "outputs": [],
   "source": [
    "import pandas as pd"
   ]
  },
  {
   "cell_type": "code",
   "execution_count": 87,
   "metadata": {},
   "outputs": [],
   "source": [
    "from pandas_datareader import data as web"
   ]
  },
  {
   "cell_type": "code",
   "execution_count": 88,
   "metadata": {},
   "outputs": [],
   "source": [
    "quandl_api_key = 'tazR87u-Jc7PsHZ2XV1-'\n",
    "import quandl as q"
   ]
  },
  {
   "cell_type": "code",
   "execution_count": 89,
   "metadata": {},
   "outputs": [],
   "source": [
    "#data = web.DataReader('AAPL', data_source='google', end='2016-10-31')['Close']\n",
    "data = q.get('WIKI/AAPL', start_date='2010-1-1',end_date='2016-10-31', api_key=quandl_api_key)['Adj. Close']"
   ]
  },
  {
   "cell_type": "code",
   "execution_count": 90,
   "metadata": {},
   "outputs": [],
   "source": [
    "data = pd.DataFrame(data)"
   ]
  },
  {
   "cell_type": "code",
   "execution_count": 91,
   "metadata": {},
   "outputs": [],
   "source": [
    "data.rename(columns={'Adj. Close': 'price'}, inplace=True)"
   ]
  },
  {
   "cell_type": "code",
   "execution_count": 92,
   "metadata": {},
   "outputs": [],
   "source": [
    "data['returns'] = np.log(data['price'] / data['price'].shift(1))"
   ]
  },
  {
   "cell_type": "code",
   "execution_count": 93,
   "metadata": {},
   "outputs": [],
   "source": [
    "data['position'] = np.sign(data['returns'])"
   ]
  },
  {
   "cell_type": "code",
   "execution_count": 94,
   "metadata": {},
   "outputs": [],
   "source": [
    "data['strategy'] = data['position'].shift(1) * data['returns']"
   ]
  },
  {
   "cell_type": "code",
   "execution_count": 95,
   "metadata": {},
   "outputs": [
    {
     "data": {
      "text/plain": [
       "<matplotlib.axes._subplots.AxesSubplot at 0x1025940e80>"
      ]
     },
     "execution_count": 95,
     "metadata": {},
     "output_type": "execute_result"
    },
    {
     "data": {
      "image/png": "[encoded data removed]",
      "text/plain": [
       "<Figure size 720x432 with 1 Axes>"
      ]
     },
     "metadata": {
      "needs_background": "light"
     },
     "output_type": "display_data"
    }
   ],
   "source": [
    "data[['returns', 'strategy']].dropna().cumsum().apply(np.exp).plot(figsize=(10, 6))\n",
    "# plt.savefig('../../images/ch04/mom_plot_1.png')"
   ]
  },
  {
   "cell_type": "code",
   "execution_count": 96,
   "metadata": {},
   "outputs": [],
   "source": [
    "data['position'] = np.sign(data['returns'].rolling(2).mean()) "
   ]
  },
  {
   "cell_type": "code",
   "execution_count": 97,
   "metadata": {},
   "outputs": [],
   "source": [
    "data['strategy'] = data['position'].shift(1) * data['returns']"
   ]
  },
  {
   "cell_type": "code",
   "execution_count": 98,
   "metadata": {},
   "outputs": [
    {
     "data": {
      "text/plain": [
       "<matplotlib.axes._subplots.AxesSubplot at 0x1025aedac8>"
      ]
     },
     "execution_count": 98,
     "metadata": {},
     "output_type": "execute_result"
    },
    {
     "data": {
      "image/png": "[encoded data removed]",
      "text/plain": [
       "<Figure size 720x432 with 1 Axes>"
      ]
     },
     "metadata": {
      "needs_background": "light"
     },
     "output_type": "display_data"
    }
   ],
   "source": [
    "data[['returns', 'strategy']].dropna().cumsum().apply(np.exp).plot(figsize=(10, 6))\n",
    "# plt.savefig('../../images/ch04/mom_plot_2.png')"
   ]
  },
  {
   "cell_type": "code",
   "execution_count": 99,
   "metadata": {},
   "outputs": [],
   "source": [
    "data['position'] = np.sign(data['returns'].rolling(6).mean()) "
   ]
  },
  {
   "cell_type": "code",
   "execution_count": 100,
   "metadata": {},
   "outputs": [],
   "source": [
    "data['strategy'] = data['position'].shift(1) * data['returns']"
   ]
  },
  {
   "cell_type": "code",
   "execution_count": 101,
   "metadata": {},
   "outputs": [
    {
     "data": {
      "text/plain": [
       "<matplotlib.axes._subplots.AxesSubplot at 0x122448898>"
      ]
     },
     "execution_count": 101,
     "metadata": {},
     "output_type": "execute_result"
    },
    {
     "data": {
      "image/png": "[encoded data removed]",
      "text/plain": [
       "<Figure size 720x432 with 1 Axes>"
      ]
     },
     "metadata": {
      "needs_background": "light"
     },
     "output_type": "display_data"
    }
   ],
   "source": [
    "data[['returns', 'strategy']].dropna().cumsum().apply(np.exp).plot(figsize=(10, 6))\n",
    "# plt.savefig('../../images/ch04/mom_plot_3.png')"
   ]
  },
  {
   "cell_type": "code",
   "execution_count": 102,
   "metadata": {},
   "outputs": [],
   "source": [
    "data['position'] = 0 - np.sign(data['returns'].rolling(6).mean()) "
   ]
  },
  {
   "cell_type": "code",
   "execution_count": 103,
   "metadata": {},
   "outputs": [],
   "source": [
    "data['strategy'] = data['position'].shift(1) * data['returns']"
   ]
  },
  {
   "cell_type": "code",
   "execution_count": 104,
   "metadata": {},
   "outputs": [
    {
     "data": {
      "text/plain": [
       "<matplotlib.axes._subplots.AxesSubplot at 0x10258da208>"
      ]
     },
     "execution_count": 104,
     "metadata": {},
     "output_type": "execute_result"
    },
    {
     "data": {
      "image/png": "[encoded data removed]",
      "text/plain": [
       "<Figure size 720x432 with 1 Axes>"
      ]
     },
     "metadata": {
      "needs_background": "light"
     },
     "output_type": "display_data"
    }
   ],
   "source": [
    "data[['returns', 'strategy']].dropna().cumsum().apply(np.exp).plot(figsize=(10, 6))"
   ]
  },
  {
   "cell_type": "code",
   "execution_count": 105,
   "metadata": {},
   "outputs": [],
   "source": [
    "h5 = pd.HDFStore('../data/AAPL_1min_11112016.h5')"
   ]
  },
  {
   "cell_type": "code",
   "execution_count": 106,
   "metadata": {},
   "outputs": [],
   "source": [
    "data = h5['AAPL']"
   ]
  },
  {
   "cell_type": "code",
   "execution_count": 107,
   "metadata": {},
   "outputs": [],
   "source": [
    "h5.close()"
   ]
  },
  {
   "cell_type": "code",
   "execution_count": 108,
   "metadata": {},
   "outputs": [],
   "source": [
    "data['returns'] = np.log(data['close'] / data['close'].shift(1))"
   ]
  },
  {
   "cell_type": "code",
   "execution_count": 109,
   "metadata": {},
   "outputs": [],
   "source": [
    "to_plot = ['returns']"
   ]
  },
  {
   "cell_type": "code",
   "execution_count": 110,
   "metadata": {},
   "outputs": [],
   "source": [
    "for m in [1, 3, 5]:\n",
    "    data['position_%d' % m] = np.sign(data['returns'].rolling(m).mean())\n",
    "    data['strategy_%d' % m] = data['position_%d' % m].shift(1) * data['returns']\n",
    "    to_plot.append('strategy_%d' % m)"
   ]
  },
  {
   "cell_type": "code",
   "execution_count": 111,
   "metadata": {
    "scrolled": true
   },
   "outputs": [
    {
     "data": {
      "text/plain": [
       "<matplotlib.axes._subplots.AxesSubplot at 0x1026c2c0f0>"
      ]
     },
     "execution_count": 111,
     "metadata": {},
     "output_type": "execute_result"
    },
    {
     "data": {
      "image/png": "[encoded data removed]",
      "text/plain": [
       "<Figure size 720x432 with 1 Axes>"
      ]
     },
     "metadata": {
      "needs_background": "light"
     },
     "output_type": "display_data"
    }
   ],
   "source": [
    "data[to_plot].dropna().cumsum().apply(np.exp).plot(\n",
    "    title='AAPL intraday 11. November 2016',\n",
    "    figsize=(10, 6), style=['-', '--', '--', '--'])\n",
    "# plt.savefig('../../images/ch04/mom_plot_4.png')"
   ]
  },
  {
   "cell_type": "code",
   "execution_count": 112,
   "metadata": {},
   "outputs": [],
   "source": [
    "h5 = pd.HDFStore('../data/SP500_1min_11112016.h5')"
   ]
  },
  {
   "cell_type": "code",
   "execution_count": 113,
   "metadata": {},
   "outputs": [
    {
     "ename": "AttributeError",
     "evalue": "'HDFStore' object has no attribute 'iloc'",
     "output_type": "error",
     "traceback": [
      "\u001b[0;31m---------------------------------------------------------------------------\u001b[0m",
      "\u001b[0;31mAttributeError\u001b[0m                            Traceback (most recent call last)",
      "\u001b[0;32m<ipython-input-113-857d07ec409c>\u001b[0m in \u001b[0;36m<module>\u001b[0;34m()\u001b[0m\n\u001b[0;32m----> 1\u001b[0;31m \u001b[0mh5\u001b[0m\u001b[0;34m.\u001b[0m\u001b[0miloc\u001b[0m\u001b[0;34m[\u001b[0m\u001b[0;34m:\u001b[0m\u001b[0;34m]\u001b[0m\u001b[0;34m\u001b[0m\u001b[0m\n\u001b[0m",
      "\u001b[0;32m~/miniconda3/lib/python3.7/site-packages/pandas/io/pytables.py\u001b[0m in \u001b[0;36m__getattr__\u001b[0;34m(self, name)\u001b[0m\n\u001b[1;32m    520\u001b[0m             \u001b[0;32mpass\u001b[0m\u001b[0;34m\u001b[0m\u001b[0m\n\u001b[1;32m    521\u001b[0m         raise AttributeError(\"'%s' object has no attribute '%s'\" %\n\u001b[0;32m--> 522\u001b[0;31m                              (type(self).__name__, name))\n\u001b[0m\u001b[1;32m    523\u001b[0m \u001b[0;34m\u001b[0m\u001b[0m\n\u001b[1;32m    524\u001b[0m     \u001b[0;32mdef\u001b[0m \u001b[0m__contains__\u001b[0m\u001b[0;34m(\u001b[0m\u001b[0mself\u001b[0m\u001b[0;34m,\u001b[0m \u001b[0mkey\u001b[0m\u001b[0;34m)\u001b[0m\u001b[0;34m:\u001b[0m\u001b[0;34m\u001b[0m\u001b[0m\n",
      "\u001b[0;31mAttributeError\u001b[0m: 'HDFStore' object has no attribute 'iloc'"
     ]
    }
   ],
   "source": [
    "h5.iloc[:]"
   ]
  },
  {
   "cell_type": "code",
   "execution_count": null,
   "metadata": {},
   "outputs": [],
   "source": [
    "data = h5['GSPC']"
   ]
  },
  {
   "cell_type": "code",
   "execution_count": null,
   "metadata": {},
   "outputs": [],
   "source": [
    "h5.close()"
   ]
  },
  {
   "cell_type": "code",
   "execution_count": null,
   "metadata": {},
   "outputs": [],
   "source": [
    "data['returns'] = np.log(data['close'] / data['close'].shift(1))"
   ]
  },
  {
   "cell_type": "code",
   "execution_count": null,
   "metadata": {},
   "outputs": [],
   "source": [
    "to_plot = ['returns']"
   ]
  },
  {
   "cell_type": "code",
   "execution_count": null,
   "metadata": {},
   "outputs": [],
   "source": [
    "for m in [1, 3, 5]:\n",
    "    data['position_%d' % m] = np.sign(data['returns'].rolling(m).mean())\n",
    "    data['strategy_%d' % m] = data['position_%d' % m].shift(1) * data['returns']\n",
    "    to_plot.append('strategy_%d' % m)"
   ]
  },
  {
   "cell_type": "code",
   "execution_count": null,
   "metadata": {},
   "outputs": [],
   "source": [
    "data[to_plot].dropna().cumsum().apply(np.exp).plot(\n",
    "    title='S&P 500 (^GSPC) intraday 11. November 2016',\n",
    "    figsize=(10, 6), style=['-', '--', '--', '--'])\n",
    "# plt.savefig('../../images/ch04/mom_plot_5.png')"
   ]
  },
  {
   "cell_type": "markdown",
   "metadata": {},
   "source": [
    "### Generalizing the Approach"
   ]
  },
  {
   "cell_type": "code",
   "execution_count": 116,
   "metadata": {},
   "outputs": [],
   "source": [
    "%matplotlib inline\n",
    "import MomVectorBacktester as Mom"
   ]
  },
  {
   "cell_type": "code",
   "execution_count": 117,
   "metadata": {},
   "outputs": [],
   "source": [
    "#reload(Mom)"
   ]
  },
  {
   "cell_type": "code",
   "execution_count": 118,
   "metadata": {},
   "outputs": [],
   "source": [
    "mombt = Mom.MomVectorBacktester('AAPL', '2010-1-1', '2016-10-31', 10000, 0.0)"
   ]
  },
  {
   "cell_type": "code",
   "execution_count": 119,
   "metadata": {},
   "outputs": [
    {
     "data": {
      "text/plain": [
       "(42836.23, 2274.27)"
      ]
     },
     "execution_count": 119,
     "metadata": {},
     "output_type": "execute_result"
    }
   ],
   "source": [
    "mombt.run_strategy(momentum=2)"
   ]
  },
  {
   "cell_type": "code",
   "execution_count": 120,
   "metadata": {},
   "outputs": [
    {
     "data": {
      "image/png": "[encoded data removed]",
      "text/plain": [
       "<Figure size 720x432 with 1 Axes>"
      ]
     },
     "metadata": {
      "needs_background": "light"
     },
     "output_type": "display_data"
    }
   ],
   "source": [
    "mombt.plot_results()\n",
    "# plt.savefig('../../images/ch04/mom_plot_6.png')"
   ]
  },
  {
   "cell_type": "code",
   "execution_count": 121,
   "metadata": {},
   "outputs": [],
   "source": [
    "mombt = Mom.MomVectorBacktester('AAPL', '2010-1-1', '2016-10-31', 10000, 0.001)"
   ]
  },
  {
   "cell_type": "code",
   "execution_count": 122,
   "metadata": {},
   "outputs": [
    {
     "data": {
      "text/plain": [
       "(25264.09, -15297.87)"
      ]
     },
     "execution_count": 122,
     "metadata": {},
     "output_type": "execute_result"
    }
   ],
   "source": [
    "mombt.run_strategy(momentum=2)"
   ]
  },
  {
   "cell_type": "code",
   "execution_count": 123,
   "metadata": {},
   "outputs": [
    {
     "data": {
      "image/png": "[encoded data removed]",
      "text/plain": [
       "<Figure size 720x432 with 1 Axes>"
      ]
     },
     "metadata": {
      "needs_background": "light"
     },
     "output_type": "display_data"
    }
   ],
   "source": [
    "mombt.plot_results()\n",
    "# plt.savefig('../../images/ch04/mom_plot_7.png')"
   ]
  },
  {
   "cell_type": "markdown",
   "metadata": {},
   "source": [
    "## Strategies based on Mean-Reversion"
   ]
  },
  {
   "cell_type": "markdown",
   "metadata": {},
   "source": [
    "### Getting into the Basics"
   ]
  },
  {
   "cell_type": "code",
   "execution_count": 124,
   "metadata": {},
   "outputs": [],
   "source": [
    "%matplotlib inline\n",
    "import numpy as np"
   ]
  },
  {
   "cell_type": "code",
   "execution_count": 125,
   "metadata": {},
   "outputs": [],
   "source": [
    "import pandas as pd"
   ]
  },
  {
   "cell_type": "code",
   "execution_count": 126,
   "metadata": {},
   "outputs": [],
   "source": [
    "from pandas_datareader import data as web"
   ]
  },
  {
   "cell_type": "code",
   "execution_count": 127,
   "metadata": {},
   "outputs": [],
   "source": [
    "import quandl as q\n",
    "quandl_api_key = 'tazR87u-Jc7PsHZ2XV1-'"
   ]
  },
  {
   "cell_type": "code",
   "execution_count": 128,
   "metadata": {},
   "outputs": [],
   "source": [
    "#data = web.DataReader('GLD', data_source='google', end='2016-10-31')['Close']"
   ]
  },
  {
   "cell_type": "code",
   "execution_count": 129,
   "metadata": {},
   "outputs": [
    {
     "ename": "NameError",
     "evalue": "name 'Value' is not defined",
     "output_type": "error",
     "traceback": [
      "\u001b[0;31m---------------------------------------------------------------------------\u001b[0m",
      "\u001b[0;31mNameError\u001b[0m                                 Traceback (most recent call last)",
      "\u001b[0;32m<ipython-input-129-bddcd81e43eb>\u001b[0m in \u001b[0;36m<module>\u001b[0;34m()\u001b[0m\n\u001b[0;32m----> 1\u001b[0;31m \u001b[0mdata\u001b[0m \u001b[0;34m=\u001b[0m \u001b[0mq\u001b[0m\u001b[0;34m.\u001b[0m\u001b[0mget\u001b[0m\u001b[0;34m(\u001b[0m\u001b[0;34m'WGC/GOLD_DAILY_USD'\u001b[0m\u001b[0;34m,\u001b[0m \u001b[0mstart_date\u001b[0m\u001b[0;34m=\u001b[0m\u001b[0;34m'2010-01-01'\u001b[0m\u001b[0;34m,\u001b[0m \u001b[0mend_date\u001b[0m\u001b[0;34m=\u001b[0m\u001b[0;34m'2016-10-31'\u001b[0m\u001b[0;34m,\u001b[0m \u001b[0mapi_key\u001b[0m\u001b[0;34m=\u001b[0m\u001b[0mquandl_api_key\u001b[0m\u001b[0;34m)\u001b[0m\u001b[0;34m[\u001b[0m\u001b[0mValue\u001b[0m\u001b[0;34m]\u001b[0m\u001b[0;34m\u001b[0m\u001b[0m\n\u001b[0m",
      "\u001b[0;31mNameError\u001b[0m: name 'Value' is not defined"
     ]
    }
   ],
   "source": [
    "data = q.get('WGC/GOLD_DAILY_USD', start_date='2010-01-01', end_date='2016-10-31', api_key=quandl_api_key)[Value]"
   ]
  },
  {
   "cell_type": "code",
   "execution_count": null,
   "metadata": {},
   "outputs": [],
   "source": [
    "data"
   ]
  },
  {
   "cell_type": "code",
   "execution_count": null,
   "metadata": {},
   "outputs": [],
   "source": [
    "data = pd.DataFrame(data)"
   ]
  },
  {
   "cell_type": "code",
   "execution_count": null,
   "metadata": {},
   "outputs": [],
   "source": [
    "data.rename(columns={'Adj. Close': 'price'}, inplace=True)"
   ]
  },
  {
   "cell_type": "code",
   "execution_count": null,
   "metadata": {},
   "outputs": [],
   "source": [
    "data['returns'] = np.log(data['price'] / data['price'].shift(1))"
   ]
  },
  {
   "cell_type": "code",
   "execution_count": null,
   "metadata": {},
   "outputs": [],
   "source": [
    "SMA = 50"
   ]
  },
  {
   "cell_type": "code",
   "execution_count": null,
   "metadata": {},
   "outputs": [],
   "source": [
    "data['SMA'] = data['price'].rolling(SMA).mean()"
   ]
  },
  {
   "cell_type": "code",
   "execution_count": null,
   "metadata": {},
   "outputs": [],
   "source": [
    "threshold = 10"
   ]
  },
  {
   "cell_type": "code",
   "execution_count": null,
   "metadata": {},
   "outputs": [],
   "source": [
    "data['distance'] = data['price'] - data['SMA']"
   ]
  },
  {
   "cell_type": "code",
   "execution_count": null,
   "metadata": {},
   "outputs": [],
   "source": [
    "import matplotlib.pyplot as plt"
   ]
  },
  {
   "cell_type": "code",
   "execution_count": null,
   "metadata": {},
   "outputs": [],
   "source": [
    "data['distance'].dropna().plot(figsize=(10, 6), legend=True)\n",
    "plt.axhline(threshold, color='r')\n",
    "plt.axhline(-threshold, color='r')\n",
    "plt.axhline(0, color='r')\n",
    "# plt.savefig('../../images/ch04/mr_plot_1.png')"
   ]
  },
  {
   "cell_type": "code",
   "execution_count": null,
   "metadata": {},
   "outputs": [],
   "source": [
    "data['position'] = np.where(data['distance'] > threshold, -1, np.nan)"
   ]
  },
  {
   "cell_type": "code",
   "execution_count": null,
   "metadata": {},
   "outputs": [],
   "source": [
    "data['position'] = np.where(data['distance'] < -threshold, 1, data['position'])"
   ]
  },
  {
   "cell_type": "code",
   "execution_count": null,
   "metadata": {},
   "outputs": [],
   "source": [
    "data['position'] = np.where(data['distance'] *\n",
    "            data['distance'].shift(1) < 0, 0, data['position'])"
   ]
  },
  {
   "cell_type": "code",
   "execution_count": null,
   "metadata": {},
   "outputs": [],
   "source": [
    "data['position'] = data['position'].ffill().fillna(0)"
   ]
  },
  {
   "cell_type": "code",
   "execution_count": null,
   "metadata": {},
   "outputs": [],
   "source": [
    "data['position'].ix[SMA:].plot(ylim=[-1.1, 1.1], figsize=(10, 6))\n",
    "# plt.savefig('../../images/ch04/mr_plot_2.png')"
   ]
  },
  {
   "cell_type": "code",
   "execution_count": null,
   "metadata": {},
   "outputs": [],
   "source": [
    "data['strategy'] = data['position'].shift(1) * data['returns']"
   ]
  },
  {
   "cell_type": "code",
   "execution_count": null,
   "metadata": {},
   "outputs": [],
   "source": [
    "data[['returns', 'strategy']].dropna().cumsum().apply(np.exp).plot(figsize=(10, 6))\n",
    "# plt.savefig('../../images/ch04/mr_plot_3.png')"
   ]
  },
  {
   "cell_type": "markdown",
   "metadata": {},
   "source": [
    "### Generalizing the Approach "
   ]
  },
  {
   "cell_type": "code",
   "execution_count": null,
   "metadata": {},
   "outputs": [],
   "source": [
    "import MRVectorBacktester as MR"
   ]
  },
  {
   "cell_type": "code",
   "execution_count": null,
   "metadata": {},
   "outputs": [],
   "source": [
    "mrbt = MR.MRVectorBacktester('GDX', '2010-1-1', '2016-10-31', 10000, 0.0025)"
   ]
  },
  {
   "cell_type": "code",
   "execution_count": null,
   "metadata": {},
   "outputs": [],
   "source": [
    "mrbt.run_strategy(SMA=50, threshold=5)"
   ]
  },
  {
   "cell_type": "code",
   "execution_count": null,
   "metadata": {},
   "outputs": [],
   "source": [
    "mrbt.plot_results()\n",
    "# plt.savefig('../../images/ch04/mr_plot_4.png')"
   ]
  },
  {
   "cell_type": "markdown",
   "metadata": {},
   "source": [
    "<img src=\"http://hilpisch.com/tpq_logo.png\" alt=\"The Python Quants\" width=\"35%\" align=\"right\" border=\"0\"><br>\n",
    "\n",
    "<a href=\"http://tpq.io\" target=\"_blank\">http://tpq.io</a> | <a href=\"http://twitter.com/dyjh\" target=\"_blank\">@dyjh</a> | <a href=\"mailto:training@tpq.io\">training@tpq.io</a>\n",
    "\n",
    "**Python Quant Platform** |\n",
    "<a href=\"http://quant-platform.com\">http://quant-platform.com</a>\n",
    "\n",
    "**Python for Finance** |\n",
    "<a href=\"http://python-for-finance.com\" target=\"_blank\">Python for Finance @ O'Reilly</a>\n",
    "\n",
    "**Derivatives Analytics with Python** |\n",
    "<a href=\"http://derivatives-analytics-with-python.com\" target=\"_blank\">Derivatives Analytics @ Wiley Finance</a>\n",
    "\n",
    "**Listed Volatility and Variance Derivatives** |\n",
    "<a href=\"http://lvvd.tpq.io\" target=\"_blank\">Listed VV Derivatives @ Wiley Finance</a>\n",
    "\n",
    "**Python Training** |\n",
    "<a href=\"http://training.tpq.io\" target=\"_blank\">Python for Finance University Certificate</a>"
   ]
  }
 ],
 "metadata": {
  "anaconda-cloud": {},
  "kernelspec": {
   "display_name": "Python 3",
   "language": "python",
   "name": "python3"
  },
  "language_info": {
   "codemirror_mode": {
    "name": "ipython",
    "version": 3
   },
   "file_extension": ".py",
   "mimetype": "text/x-python",
   "name": "python",
   "nbconvert_exporter": "python",
   "pygments_lexer": "ipython3",
   "version": "3.7.0"
  }
 },
 "nbformat": 4,
 "nbformat_minor": 1
}
