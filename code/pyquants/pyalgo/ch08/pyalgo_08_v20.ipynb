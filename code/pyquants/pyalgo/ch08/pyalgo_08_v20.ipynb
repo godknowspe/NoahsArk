{
 "cells": [
  {
   "cell_type": "markdown",
   "metadata": {},
   "source": [
    "<img src=\"http://hilpisch.com/tpq_logo.png\" alt=\"The Python Quants\" width=\"35%\" align=\"right\" border=\"0\"><br>"
   ]
  },
  {
   "cell_type": "markdown",
   "metadata": {},
   "source": [
    "# Python for Algorithmic Trading "
   ]
  },
  {
   "cell_type": "markdown",
   "metadata": {},
   "source": [
    "**Chapter 08 &mdash; CFD Trading with Oanda**"
   ]
  },
  {
   "cell_type": "code",
   "execution_count": 1,
   "metadata": {
    "collapsed": false
   },
   "outputs": [],
   "source": [
    "%matplotlib inline\n",
    "import matplotlib.pyplot as plt\n",
    "import seaborn as sns; sns.set()\n",
    "import matplotlib as mpl\n",
    "mpl.rcParams['font.family'] = 'serif'"
   ]
  },
  {
   "cell_type": "markdown",
   "metadata": {},
   "source": [
    "## The Oanda API"
   ]
  },
  {
   "cell_type": "markdown",
   "metadata": {},
   "source": [
    "`pip install v20`"
   ]
  },
  {
   "cell_type": "code",
   "execution_count": 2,
   "metadata": {
    "collapsed": false
   },
   "outputs": [],
   "source": [
    "import v20\n",
    "from v20.account import Account"
   ]
  },
  {
   "cell_type": "code",
   "execution_count": 3,
   "metadata": {
    "collapsed": true
   },
   "outputs": [],
   "source": [
    "import configparser"
   ]
  },
  {
   "cell_type": "code",
   "execution_count": 4,
   "metadata": {
    "collapsed": true
   },
   "outputs": [],
   "source": [
    "config = configparser.ConfigParser()"
   ]
  },
  {
   "cell_type": "code",
   "execution_count": 5,
   "metadata": {
    "collapsed": false
   },
   "outputs": [
    {
     "data": {
      "text/plain": [
       "['../pyalgo.cfg']"
      ]
     },
     "execution_count": 5,
     "metadata": {},
     "output_type": "execute_result"
    }
   ],
   "source": [
    "config.read('../pyalgo.cfg')"
   ]
  },
  {
   "cell_type": "code",
   "execution_count": 6,
   "metadata": {
    "collapsed": false
   },
   "outputs": [
    {
     "data": {
      "text/plain": [
       "['quandl', 'eikon', 'plotly', 'oanda', 'oanda_v20', 'ibapi', 'gemini']"
      ]
     },
     "execution_count": 6,
     "metadata": {},
     "output_type": "execute_result"
    }
   ],
   "source": [
    "config.sections()"
   ]
  },
  {
   "cell_type": "code",
   "execution_count": 7,
   "metadata": {
    "collapsed": false
   },
   "outputs": [],
   "source": [
    "ctx = v20.Context(\n",
    "            'api-fxpractice.oanda.com',\n",
    "            443,\n",
    "            True,\n",
    "            application='sample_code',\n",
    "            token=config['oanda_v20']['access_token'],\n",
    "            datetime_format='RFC3339'\n",
    ")"
   ]
  },
  {
   "cell_type": "code",
   "execution_count": 8,
   "metadata": {
    "collapsed": true
   },
   "outputs": [],
   "source": [
    "response = ctx.account.list()"
   ]
  },
  {
   "cell_type": "code",
   "execution_count": 9,
   "metadata": {
    "collapsed": true
   },
   "outputs": [],
   "source": [
    "accounts = response.get('accounts')"
   ]
  },
  {
   "cell_type": "code",
   "execution_count": 10,
   "metadata": {
    "collapsed": false
   },
   "outputs": [
    {
     "name": "stdout",
     "output_type": "stream",
     "text": [
      "Account: id: 101-004-5516121-001\n",
      "tags: []\n"
     ]
    }
   ],
   "source": [
    "for account in accounts:\n",
    "    print('Account: %s' %account)"
   ]
  },
  {
   "cell_type": "code",
   "execution_count": 11,
   "metadata": {
    "collapsed": true
   },
   "outputs": [],
   "source": [
    "account_id = accounts[0].id"
   ]
  },
  {
   "cell_type": "code",
   "execution_count": 12,
   "metadata": {
    "collapsed": false
   },
   "outputs": [
    {
     "data": {
      "text/plain": [
       "'101-004-5516121-001'"
      ]
     },
     "execution_count": 12,
     "metadata": {},
     "output_type": "execute_result"
    }
   ],
   "source": [
    "account_id"
   ]
  },
  {
   "cell_type": "markdown",
   "metadata": {},
   "source": [
    "## Retrieving Historical Data"
   ]
  },
  {
   "cell_type": "markdown",
   "metadata": {},
   "source": [
    "### Looking Up Instruments Available for Trading"
   ]
  },
  {
   "cell_type": "code",
   "execution_count": 13,
   "metadata": {
    "collapsed": false
   },
   "outputs": [],
   "source": [
    "response = ctx.account.instruments(config['oanda_v20']['account_id'])"
   ]
  },
  {
   "cell_type": "code",
   "execution_count": 14,
   "metadata": {
    "collapsed": false
   },
   "outputs": [],
   "source": [
    "instruments = response.get('instruments')"
   ]
  },
  {
   "cell_type": "code",
   "execution_count": 15,
   "metadata": {
    "collapsed": false
   },
   "outputs": [
    {
     "data": {
      "text/plain": [
       "{'displayName': 'USD/CHF',\n",
       " 'displayPrecision': 5,\n",
       " 'marginRate': '0.02',\n",
       " 'maximumOrderUnits': '100000000.0',\n",
       " 'maximumPositionSize': '0.0',\n",
       " 'maximumTrailingStopDistance': '1.0',\n",
       " 'minimumTradeSize': '1.0',\n",
       " 'minimumTrailingStopDistance': '0.0005',\n",
       " 'name': 'USD_CHF',\n",
       " 'pipLocation': -4,\n",
       " 'tradeUnitsPrecision': 0,\n",
       " 'type': 'CURRENCY'}"
      ]
     },
     "execution_count": 15,
     "metadata": {},
     "output_type": "execute_result"
    }
   ],
   "source": [
    "instruments[0].dict()"
   ]
  },
  {
   "cell_type": "code",
   "execution_count": 16,
   "metadata": {
    "collapsed": false
   },
   "outputs": [
    {
     "name": "stdout",
     "output_type": "stream",
     "text": [
      "             USD/CHF |    USD_CHF\n",
      "        Taiwan Index |   TWIX_USD\n",
      "          Silver/EUR |    XAG_EUR\n",
      "          Silver/SGD |    XAG_SGD\n",
      "      West Texas Oil |  WTICO_USD\n",
      "        US 2Y T-Note | USB02Y_USD\n",
      "             AUD/HKD |    AUD_HKD\n",
      "            Gold/CAD |    XAU_CAD\n",
      "       Australia 200 |  AU200_AUD\n",
      "             GBP/HKD |    GBP_HKD\n",
      "             EUR/DKK |    EUR_DKK\n",
      "             EUR/PLN |    EUR_PLN\n",
      "        Hong Kong 33 |   HK33_HKD\n",
      "              UK 100 |  UK100_GBP\n",
      "             GBP/CHF |    GBP_CHF\n",
      "             USD/THB |    USD_THB\n",
      "                Bund | DE10YB_EUR\n",
      "             USD/SEK |    USD_SEK\n",
      "             GBP/SGD |    GBP_SGD\n",
      "             USD/INR |    USD_INR\n",
      "         UK 10Y Gilt | UK10YB_GBP\n",
      "             AUD/CHF |    AUD_CHF\n",
      "             EUR/SGD |    EUR_SGD\n",
      "          US SPX 500 | SPX500_USD\n",
      "            Gold/GBP |    XAU_GBP\n",
      "             CAD/SGD |    CAD_SGD\n",
      "           France 40 |   FR40_EUR\n",
      "          Silver/CHF |    XAG_CHF\n",
      "             EUR/AUD |    EUR_AUD\n",
      "       US Wall St 30 |   US30_USD\n",
      "             USD/DKK |    USD_DKK\n",
      "             USD/HKD |    USD_HKD\n",
      "             AUD/CAD |    AUD_CAD\n",
      "       US 10Y T-Note | USB10Y_USD\n",
      "             EUR/HKD |    EUR_HKD\n",
      "             ZAR/JPY |    ZAR_JPY\n",
      "             GBP/PLN |    GBP_PLN\n",
      "            Platinum |    XPT_USD\n",
      "             EUR/NZD |    EUR_NZD\n",
      "             NZD/JPY |    NZD_JPY\n",
      "             EUR/CAD |    EUR_CAD\n",
      "          Silver/NZD |    XAG_NZD\n",
      "             AUD/NZD |    AUD_NZD\n",
      "             AUD/USD |    AUD_USD\n",
      "              Silver |    XAG_USD\n",
      "            Gold/CHF |    XAU_CHF\n",
      "             SGD/HKD |    SGD_HKD\n",
      "             EUR/HUF |    EUR_HUF\n",
      "             USD/CAD |    USD_CAD\n",
      "            Gold/NZD |    XAU_NZD\n",
      "          Silver/AUD |    XAG_AUD\n",
      "             SGD/JPY |    SGD_JPY\n",
      "             CHF/HKD |    CHF_HKD\n",
      "        US Russ 2000 | US2000_USD\n",
      "          Silver/CAD |    XAG_CAD\n",
      "           Palladium |    XPD_USD\n",
      "             CHF/JPY |    CHF_JPY\n",
      "             HKD/JPY |    HKD_JPY\n",
      "          Silver/JPY |    XAG_JPY\n",
      "                Gold |    XAU_USD\n",
      "            Soybeans |  SOYBN_USD\n",
      "         Natural Gas | NATGAS_USD\n",
      "             NZD/USD |    NZD_USD\n",
      "             CHF/ZAR |    CHF_ZAR\n",
      "             USD/JPY |    USD_JPY\n",
      "             EUR/TRY |    EUR_TRY\n",
      "          Silver/HKD |    XAG_HKD\n",
      "             EUR/NOK |    EUR_NOK\n",
      "            Gold/HKD |    XAU_HKD\n",
      "            India 50 |   IN50_USD\n",
      "           Europe 50 |   EU50_EUR\n",
      "             SGD/CHF |    SGD_CHF\n",
      "           China A50 |   CN50_USD\n",
      "             USD/ZAR |    USD_ZAR\n",
      "             EUR/USD |    EUR_USD\n",
      "          Silver/GBP |    XAG_GBP\n",
      "             EUR/CHF |    EUR_CHF\n",
      "          US Nas 100 | NAS100_USD\n",
      "              Copper |    XCU_USD\n",
      "             NZD/SGD |    NZD_SGD\n",
      "            Gold/AUD |    XAU_AUD\n",
      "             CAD/HKD |    CAD_HKD\n",
      "             CAD/JPY |    CAD_JPY\n",
      "             GBP/ZAR |    GBP_ZAR\n",
      "             GBP/JPY |    GBP_JPY\n",
      "             USD/TRY |    USD_TRY\n",
      "             USD/HUF |    USD_HUF\n",
      "             USD/SAR |    USD_SAR\n",
      "             GBP/CAD |    GBP_CAD\n",
      "            Gold/JPY |    XAU_JPY\n",
      "             EUR/CZK |    EUR_CZK\n",
      "                Corn |   CORN_USD\n",
      "             AUD/JPY |    AUD_JPY\n",
      "             EUR/ZAR |    EUR_ZAR\n",
      "             GBP/USD |    GBP_USD\n",
      "             USD/MXN |    USD_MXN\n",
      "      Netherlands 25 |   NL25_EUR\n",
      "             USD/CNH |    USD_CNH\n",
      "             AUD/SGD |    AUD_SGD\n",
      "          Germany 30 |   DE30_EUR\n",
      "            Gold/SGD |    XAU_SGD\n",
      "            Gold/EUR |    XAU_EUR\n",
      "               Wheat |  WHEAT_USD\n",
      "               Sugar |  SUGAR_USD\n",
      "             USD/SGD |    USD_SGD\n",
      "             EUR/SEK |    EUR_SEK\n",
      "             USD/NOK |    USD_NOK\n",
      "             EUR/JPY |    EUR_JPY\n",
      "             EUR/GBP |    EUR_GBP\n",
      "             USD/CZK |    USD_CZK\n",
      "             CAD/CHF |    CAD_CHF\n",
      "             NZD/CHF |    NZD_CHF\n",
      "             NZD/HKD |    NZD_HKD\n",
      "        Singapore 30 |   SG30_SGD\n",
      "             TRY/JPY |    TRY_JPY\n",
      "        US 5Y T-Note | USB05Y_USD\n",
      "           Japan 225 |  JP225_USD\n",
      "     Brent Crude Oil |    BCO_USD\n",
      "             GBP/NZD |    GBP_NZD\n",
      "           US T-Bond | USB30Y_USD\n",
      "            Swiss 20 |   CH20_CHF\n",
      "         Gold/Silver |    XAU_XAG\n",
      "             GBP/AUD |    GBP_AUD\n",
      "             USD/PLN |    USD_PLN\n",
      "             NZD/CAD |    NZD_CAD\n"
     ]
    }
   ],
   "source": [
    "for instrument in instruments:\n",
    "    ins = instrument.dict()\n",
    "    print('%20s | %10s' % (ins['displayName'],\n",
    "                           ins['name']))"
   ]
  },
  {
   "cell_type": "markdown",
   "metadata": {},
   "source": [
    "### Backtesting a Momentum Strategy on Minute Bars"
   ]
  },
  {
   "cell_type": "raw",
   "metadata": {},
   "source": [
    "ctx.instrument.candles?"
   ]
  },
  {
   "cell_type": "code",
   "execution_count": 17,
   "metadata": {
    "collapsed": true
   },
   "outputs": [],
   "source": [
    "import datetime as dt"
   ]
  },
  {
   "cell_type": "code",
   "execution_count": 18,
   "metadata": {
    "collapsed": true
   },
   "outputs": [],
   "source": [
    "suffix = '.000000000Z'"
   ]
  },
  {
   "cell_type": "code",
   "execution_count": 19,
   "metadata": {
    "collapsed": false
   },
   "outputs": [],
   "source": [
    "fromTime = dt.datetime(2016, 12, 8, 8, 0, 0)"
   ]
  },
  {
   "cell_type": "code",
   "execution_count": 20,
   "metadata": {
    "collapsed": false
   },
   "outputs": [],
   "source": [
    "fromTime = fromTime.isoformat('T') + suffix"
   ]
  },
  {
   "cell_type": "code",
   "execution_count": 21,
   "metadata": {
    "collapsed": false
   },
   "outputs": [
    {
     "data": {
      "text/plain": [
       "'2016-12-08T08:00:00.000000000Z'"
      ]
     },
     "execution_count": 21,
     "metadata": {},
     "output_type": "execute_result"
    }
   ],
   "source": [
    "fromTime"
   ]
  },
  {
   "cell_type": "code",
   "execution_count": 22,
   "metadata": {
    "collapsed": false
   },
   "outputs": [],
   "source": [
    "toTime = dt.datetime(2016, 12, 10, 8, 0, 0)"
   ]
  },
  {
   "cell_type": "code",
   "execution_count": 23,
   "metadata": {
    "collapsed": false
   },
   "outputs": [],
   "source": [
    "toTime = toTime.isoformat('T') + suffix"
   ]
  },
  {
   "cell_type": "code",
   "execution_count": 24,
   "metadata": {
    "collapsed": false
   },
   "outputs": [
    {
     "name": "stdout",
     "output_type": "stream",
     "text": [
      "CPU times: user 65 ms, sys: 10.4 ms, total: 75.5 ms\n",
      "Wall time: 3.74 s\n"
     ]
    }
   ],
   "source": [
    "%%time\n",
    "res = ctx.instrument.candles(instrument='EUR_USD',\n",
    "                             fromTime=fromTime,\n",
    "                             toTime=toTime,\n",
    "                             granularity='M1',\n",
    "                             price='A')"
   ]
  },
  {
   "cell_type": "code",
   "execution_count": 25,
   "metadata": {
    "collapsed": true
   },
   "outputs": [],
   "source": [
    "import pandas as pd"
   ]
  },
  {
   "cell_type": "code",
   "execution_count": 26,
   "metadata": {
    "collapsed": false
   },
   "outputs": [],
   "source": [
    "raw = res.get('candles')"
   ]
  },
  {
   "cell_type": "code",
   "execution_count": 27,
   "metadata": {
    "collapsed": false
   },
   "outputs": [],
   "source": [
    "raw = [cs.dict() for cs in raw]"
   ]
  },
  {
   "cell_type": "code",
   "execution_count": 28,
   "metadata": {
    "collapsed": false
   },
   "outputs": [],
   "source": [
    "for cs in raw:\n",
    "    cs.update(cs['ask'])\n",
    "    del cs['ask']"
   ]
  },
  {
   "cell_type": "code",
   "execution_count": 29,
   "metadata": {
    "collapsed": false
   },
   "outputs": [
    {
     "data": {
      "text/plain": [
       "{'c': '1.07651',\n",
       " 'complete': True,\n",
       " 'h': '1.07655',\n",
       " 'l': '1.07625',\n",
       " 'o': '1.0765',\n",
       " 'time': '1481184000.000000000',\n",
       " 'volume': 68}"
      ]
     },
     "execution_count": 29,
     "metadata": {},
     "output_type": "execute_result"
    }
   ],
   "source": [
    "raw[0]"
   ]
  },
  {
   "cell_type": "code",
   "execution_count": 30,
   "metadata": {
    "collapsed": true
   },
   "outputs": [],
   "source": [
    "data = pd.DataFrame(raw)"
   ]
  },
  {
   "cell_type": "code",
   "execution_count": 31,
   "metadata": {
    "collapsed": true
   },
   "outputs": [],
   "source": [
    "data['time']= pd.to_datetime(data['time'], unit='s')"
   ]
  },
  {
   "cell_type": "code",
   "execution_count": 32,
   "metadata": {
    "collapsed": true
   },
   "outputs": [],
   "source": [
    "data = data.set_index('time')"
   ]
  },
  {
   "cell_type": "code",
   "execution_count": 33,
   "metadata": {
    "collapsed": false
   },
   "outputs": [],
   "source": [
    "data.index = pd.DatetimeIndex(data.index)"
   ]
  },
  {
   "cell_type": "code",
   "execution_count": 34,
   "metadata": {
    "collapsed": false
   },
   "outputs": [
    {
     "name": "stdout",
     "output_type": "stream",
     "text": [
      "<class 'pandas.core.frame.DataFrame'>\n",
      "DatetimeIndex: 2208 entries, 2016-12-08 08:00:00 to 2016-12-09 21:59:00\n",
      "Data columns (total 6 columns):\n",
      "c           2208 non-null object\n",
      "complete    2208 non-null bool\n",
      "h           2208 non-null object\n",
      "l           2208 non-null object\n",
      "o           2208 non-null object\n",
      "volume      2208 non-null int64\n",
      "dtypes: bool(1), int64(1), object(4)\n",
      "memory usage: 105.7+ KB\n"
     ]
    }
   ],
   "source": [
    "data.info()"
   ]
  },
  {
   "cell_type": "code",
   "execution_count": 35,
   "metadata": {
    "collapsed": false
   },
   "outputs": [],
   "source": [
    "data[['c', 'l', 'h', 'o']] = data[\n",
    "                ['c', 'l', 'h', 'o']].astype('float64')"
   ]
  },
  {
   "cell_type": "code",
   "execution_count": 36,
   "metadata": {
    "collapsed": true
   },
   "outputs": [],
   "source": [
    "data = data.rename(columns={'c':'closeAsk', 'l':'lowAsk',\n",
    "                            'h':'highAsk', 'o':'openAsk' })"
   ]
  },
  {
   "cell_type": "code",
   "execution_count": 37,
   "metadata": {
    "collapsed": false
   },
   "outputs": [
    {
     "data": {
      "text/html": [
       "<div>\n",
       "<table border=\"1\" class=\"dataframe\">\n",
       "  <thead>\n",
       "    <tr style=\"text-align: right;\">\n",
       "      <th></th>\n",
       "      <th>closeAsk</th>\n",
       "      <th>volume</th>\n",
       "    </tr>\n",
       "    <tr>\n",
       "      <th>time</th>\n",
       "      <th></th>\n",
       "      <th></th>\n",
       "    </tr>\n",
       "  </thead>\n",
       "  <tbody>\n",
       "    <tr>\n",
       "      <th>2016-12-08 08:00:00</th>\n",
       "      <td>1.07651</td>\n",
       "      <td>68</td>\n",
       "    </tr>\n",
       "    <tr>\n",
       "      <th>2016-12-08 08:01:00</th>\n",
       "      <td>1.07626</td>\n",
       "      <td>37</td>\n",
       "    </tr>\n",
       "    <tr>\n",
       "      <th>2016-12-08 08:02:00</th>\n",
       "      <td>1.07638</td>\n",
       "      <td>28</td>\n",
       "    </tr>\n",
       "    <tr>\n",
       "      <th>2016-12-08 08:03:00</th>\n",
       "      <td>1.07641</td>\n",
       "      <td>17</td>\n",
       "    </tr>\n",
       "    <tr>\n",
       "      <th>2016-12-08 08:04:00</th>\n",
       "      <td>1.07649</td>\n",
       "      <td>16</td>\n",
       "    </tr>\n",
       "  </tbody>\n",
       "</table>\n",
       "</div>"
      ],
      "text/plain": [
       "                     closeAsk  volume\n",
       "time                                 \n",
       "2016-12-08 08:00:00   1.07651      68\n",
       "2016-12-08 08:01:00   1.07626      37\n",
       "2016-12-08 08:02:00   1.07638      28\n",
       "2016-12-08 08:03:00   1.07641      17\n",
       "2016-12-08 08:04:00   1.07649      16"
      ]
     },
     "execution_count": 37,
     "metadata": {},
     "output_type": "execute_result"
    }
   ],
   "source": [
    "data[['closeAsk', 'volume']].head()"
   ]
  },
  {
   "cell_type": "code",
   "execution_count": 38,
   "metadata": {
    "collapsed": true
   },
   "outputs": [],
   "source": [
    "import numpy as np"
   ]
  },
  {
   "cell_type": "code",
   "execution_count": 39,
   "metadata": {
    "collapsed": false
   },
   "outputs": [],
   "source": [
    "data['returns'] = np.log(data['closeAsk'] / data['closeAsk'].shift(1))"
   ]
  },
  {
   "cell_type": "code",
   "execution_count": 40,
   "metadata": {
    "collapsed": true
   },
   "outputs": [],
   "source": [
    "cols = []"
   ]
  },
  {
   "cell_type": "code",
   "execution_count": 41,
   "metadata": {
    "collapsed": false
   },
   "outputs": [],
   "source": [
    "for momentum in [15, 30, 60, 120]:\n",
    "    col = 'position_%s' % momentum\n",
    "    data[col] = np.sign(data['returns'].rolling(momentum).mean())\n",
    "    cols.append(col)"
   ]
  },
  {
   "cell_type": "code",
   "execution_count": 42,
   "metadata": {
    "collapsed": true
   },
   "outputs": [],
   "source": [
    "strats = ['returns']"
   ]
  },
  {
   "cell_type": "code",
   "execution_count": 43,
   "metadata": {
    "collapsed": false
   },
   "outputs": [],
   "source": [
    "for col in cols:\n",
    "    strat = 'strategy_%s' % col.split('_')[1]\n",
    "    data[strat] = data[col].shift(1) * data['returns']\n",
    "    strats.append(strat)"
   ]
  },
  {
   "cell_type": "code",
   "execution_count": 44,
   "metadata": {
    "collapsed": false
   },
   "outputs": [
    {
     "data": {
      "image/png": "[encoded data removed]",
      "text/plain": [
       "<matplotlib.figure.Figure at 0x11510aa90>"
      ]
     },
     "metadata": {},
     "output_type": "display_data"
    }
   ],
   "source": [
    "data[strats].dropna().cumsum().apply(np.exp).plot()\n",
    "plt.savefig('../../images/ch08/oanda_plot_1.png')"
   ]
  },
  {
   "cell_type": "markdown",
   "metadata": {},
   "source": [
    "### Factoring In Leverage and Margin"
   ]
  },
  {
   "cell_type": "code",
   "execution_count": 45,
   "metadata": {
    "collapsed": false
   },
   "outputs": [
    {
     "data": {
      "image/png": "[encoded data removed]",
      "text/plain": [
       "<matplotlib.figure.Figure at 0x118a2a160>"
      ]
     },
     "metadata": {},
     "output_type": "display_data"
    }
   ],
   "source": [
    "data[strats].dropna().cumsum().apply(\n",
    "            lambda x: x * 20).apply(np.exp).plot()\n",
    "plt.savefig('../../images/ch08/oanda_plot_2.png')"
   ]
  },
  {
   "cell_type": "markdown",
   "metadata": {},
   "source": [
    "## Working with Streaming Data"
   ]
  },
  {
   "cell_type": "code",
   "execution_count": 46,
   "metadata": {
    "collapsed": true
   },
   "outputs": [],
   "source": [
    "ctx_stream = v20.Context(\n",
    "            'stream-fxpractice.oanda.com',\n",
    "            443,\n",
    "            True,\n",
    "            application='sample_code',\n",
    "            token=config['oanda_v20']['access_token'],\n",
    "            datetime_format='RFC3339')"
   ]
  },
  {
   "cell_type": "code",
   "execution_count": 47,
   "metadata": {
    "collapsed": true
   },
   "outputs": [],
   "source": [
    "response = ctx_stream.pricing.stream(\n",
    "            account_id,\n",
    "            snapshot=True,\n",
    "            instruments='EUR_USD')"
   ]
  },
  {
   "cell_type": "code",
   "execution_count": 48,
   "metadata": {
    "collapsed": false
   },
   "outputs": [
    {
     "name": "stdout",
     "output_type": "stream",
     "text": [
      "EUR_USD (2017-03-15T09:48:09.869389684Z) 1.06244/1.06256\n",
      "EUR_USD (2017-03-15T09:48:10.916938638Z) 1.06246/1.06258\n",
      "EUR_USD (2017-03-15T09:48:12.571429947Z) 1.06247/1.06258\n",
      "EUR_USD (2017-03-15T09:48:14.431331876Z) 1.06249/1.0626\n",
      "EUR_USD (2017-03-15T09:48:17.447462084Z) 1.06251/1.06263\n",
      "EUR_USD (2017-03-15T09:48:19.161625069Z) 1.06256/1.06267\n",
      "EUR_USD (2017-03-15T09:48:21.168117151Z) 1.06256/1.06268\n",
      "EUR_USD (2017-03-15T09:48:21.591412130Z) 1.06251/1.06263\n",
      "EUR_USD (2017-03-15T09:48:26.345683526Z) 1.06247/1.06259\n",
      "EUR_USD (2017-03-15T09:48:42.784846269Z) 1.06243/1.06254\n"
     ]
    }
   ],
   "source": [
    "i = 0\n",
    "for msg_type, msg in response.parts():\n",
    "    if msg_type == 'pricing.Price':\n",
    "        i += 1\n",
    "        output = '%s (%s) %s/%s' % (msg.instrument, msg.time,\n",
    "                                   msg.bids[0].price, msg.asks[0].price)\n",
    "        print(output)\n",
    "    if i == 10:\n",
    "        break"
   ]
  },
  {
   "cell_type": "markdown",
   "metadata": {},
   "source": [
    "## Placing Orders"
   ]
  },
  {
   "cell_type": "code",
   "execution_count": 49,
   "metadata": {
    "collapsed": false
   },
   "outputs": [],
   "source": [
    "request = ctx.order.market(account_id, instrument='EUR_USD', units=10)\n",
    "order = request.get('orderFillTransaction')"
   ]
  },
  {
   "cell_type": "code",
   "execution_count": 50,
   "metadata": {
    "collapsed": false
   },
   "outputs": [
    {
     "data": {
      "text/plain": [
       "'Fill Order 487 (MARKET_ORDER): 10.0 of EUR_USD @ 1.06254'"
      ]
     },
     "execution_count": 50,
     "metadata": {},
     "output_type": "execute_result"
    }
   ],
   "source": [
    "order.summary()"
   ]
  },
  {
   "cell_type": "code",
   "execution_count": 51,
   "metadata": {
    "collapsed": false
   },
   "outputs": [],
   "source": [
    "request = ctx.order.market(account_id, instrument='EUR_USD', units=-10)\n",
    "order = request.get('orderFillTransaction')"
   ]
  },
  {
   "cell_type": "code",
   "execution_count": 52,
   "metadata": {
    "collapsed": false
   },
   "outputs": [
    {
     "data": {
      "text/plain": [
       "'Fill Order 489 (MARKET_ORDER): -10.0 of EUR_USD @ 1.06243'"
      ]
     },
     "execution_count": 52,
     "metadata": {},
     "output_type": "execute_result"
    }
   ],
   "source": [
    "order.summary()"
   ]
  },
  {
   "cell_type": "markdown",
   "metadata": {},
   "source": [
    "## Implementing Trading Strategies in Real-Time"
   ]
  },
  {
   "cell_type": "code",
   "execution_count": 53,
   "metadata": {
    "collapsed": false
   },
   "outputs": [],
   "source": [
    "import MomentumTrader_v20_sn as MT"
   ]
  },
  {
   "cell_type": "code",
   "execution_count": 54,
   "metadata": {
    "collapsed": true
   },
   "outputs": [],
   "source": [
    "from importlib import reload"
   ]
  },
  {
   "cell_type": "code",
   "execution_count": 55,
   "metadata": {
    "collapsed": false
   },
   "outputs": [
    {
     "data": {
      "text/plain": [
       "<module 'MomentumTrader_v20_sn' from '/Users/yves/Dropbox/Platform/pyalgo/code/ch08/MomentumTrader_v20_sn.py'>"
      ]
     },
     "execution_count": 55,
     "metadata": {},
     "output_type": "execute_result"
    }
   ],
   "source": [
    "reload(MT)"
   ]
  },
  {
   "cell_type": "code",
   "execution_count": 56,
   "metadata": {
    "collapsed": false
   },
   "outputs": [
    {
     "name": "stdout",
     "output_type": "stream",
     "text": [
      "1 2 3 4 5 6 7 8 9 10 11 12 13 14 15 16 17 18 19 20 21 22 23 24 25 26 27 28 29 30 31 32 33 34 35 36 37 38 39 40 41 42 43 44 45 46 47 48 49 50 51 52 53 54 55 56 57 58 59 60 61 62 63 64 65 66 67 68 69 70 71 72 73 74 75 76 77 78 79 80 81 82 83 84 85 86 87 88 89 90 91 92 93 94 95 96 97 98 99 100 101 102 103 104 105 106 107 108 109 110 111 112 113 114 115 116 117 118 119 120 121 122 123 124 125 126 127 128 129 130 131 132 133 \n",
      "\n",
      " {'pl': '0.0', 'instrument': 'EUR_USD', 'units': '-50000.0', 'tradeOpened': {'units': '-50000.0', 'tradeID': '492'}, 'type': 'ORDER_FILL', 'userID': 5516121, 'financing': '0.0', 'id': '492', 'accountBalance': '98606.3044', 'orderID': '491', 'batchID': '491', 'price': '1.06241', 'reason': 'MARKET_ORDER', 'accountID': '101-004-5516121-001', 'time': '2017-03-15T09:54:05.007932319Z'} \n",
      "\n",
      "134 135 136 137 \n",
      "\n",
      " {'pl': '-7.5298', 'instrument': 'EUR_USD', 'units': '100000.0', 'tradeOpened': {'units': '50000.0', 'tradeID': '494'}, 'type': 'ORDER_FILL', 'userID': 5516121, 'financing': '0.0', 'id': '494', 'accountBalance': '98598.7746', 'orderID': '493', 'batchID': '493', 'price': '1.06257', 'reason': 'MARKET_ORDER', 'accountID': '101-004-5516121-001', 'time': '2017-03-15T09:54:11.445416357Z', 'tradesClosed': [{'financing': '0.0', 'units': '50000.0', 'realizedPL': '-7.5298', 'tradeID': '492'}]} \n",
      "\n",
      "138 139 140 141 142 143 144 145 146 147 148 149 150 151 152 153 154 155 156 \n",
      "\n",
      " {'pl': '-7.0594', 'instrument': 'EUR_USD', 'units': '-100000.0', 'tradeOpened': {'units': '-50000.0', 'tradeID': '496'}, 'type': 'ORDER_FILL', 'userID': 5516121, 'financing': '-0.0004', 'id': '496', 'accountBalance': '98591.7148', 'orderID': '495', 'batchID': '495', 'price': '1.06242', 'reason': 'MARKET_ORDER', 'accountID': '101-004-5516121-001', 'time': '2017-03-15T09:54:52.780004165Z', 'tradesClosed': [{'financing': '-0.0004', 'units': '-50000.0', 'realizedPL': '-7.0594', 'tradeID': '494'}]} \n",
      "\n",
      "157 158 159 160 \n",
      "\n",
      " {'pl': '-3.7651', 'instrument': 'EUR_USD', 'units': '100000.0', 'tradeOpened': {'units': '50000.0', 'tradeID': '498'}, 'type': 'ORDER_FILL', 'userID': 5516121, 'financing': '0.0', 'id': '498', 'accountBalance': '98587.9497', 'orderID': '497', 'batchID': '497', 'price': '1.0625', 'reason': 'MARKET_ORDER', 'accountID': '101-004-5516121-001', 'time': '2017-03-15T09:55:00.232549066Z', 'tradesClosed': [{'financing': '0.0', 'units': '50000.0', 'realizedPL': '-3.7651', 'tradeID': '496'}]} \n",
      "\n",
      "161 162 163 164 \n",
      "\n",
      " {'pl': '-9.4135', 'instrument': 'EUR_USD', 'units': '-100000.0', 'tradeOpened': {'units': '-50000.0', 'tradeID': '500'}, 'type': 'ORDER_FILL', 'userID': 5516121, 'financing': '-0.0001', 'id': '500', 'accountBalance': '98578.5361', 'orderID': '499', 'batchID': '499', 'price': '1.0623', 'reason': 'MARKET_ORDER', 'accountID': '101-004-5516121-001', 'time': '2017-03-15T09:55:09.045056353Z', 'tradesClosed': [{'financing': '-0.0001', 'units': '-50000.0', 'realizedPL': '-9.4135', 'tradeID': '498'}]} \n",
      "\n",
      "165 166 167 168 169 \n",
      "\n",
      " {'pl': '-5.6481', 'instrument': 'EUR_USD', 'units': '100000.0', 'tradeOpened': {'units': '50000.0', 'tradeID': '502'}, 'type': 'ORDER_FILL', 'userID': 5516121, 'financing': '0.0', 'id': '502', 'accountBalance': '98572.888', 'orderID': '501', 'batchID': '501', 'price': '1.06242', 'reason': 'MARKET_ORDER', 'accountID': '101-004-5516121-001', 'time': '2017-03-15T09:55:11.251494245Z', 'tradesClosed': [{'financing': '0.0', 'units': '50000.0', 'realizedPL': '-5.6481', 'tradeID': '500'}]} \n",
      "\n",
      "170 171 172 173 174 175 176 177 178 179 180 181 182 183 184 185 186 187 188 189 190 191 192 193 194 195 196 197 198 199 200 201 202 203 204 205 206 207 208 209 210 211 212 213 214 215 216 217 218 219 220 221 222 223 224 225 226 227 228 229 230 231 232 233 234 235 236 237 238 239 240 241 242 243 244 245 246 247 248 249 250 \n",
      "\n",
      " {'pl': '26.3381', 'instrument': 'EUR_USD', 'units': '-50000.0', 'type': 'ORDER_FILL', 'userID': 5516121, 'financing': '-0.0026', 'id': '504', 'accountBalance': '98599.2235', 'orderID': '503', 'batchID': '503', 'price': '1.06298', 'reason': 'MARKET_ORDER', 'accountID': '101-004-5516121-001', 'time': '2017-03-15T09:59:16.758814672Z', 'tradesClosed': [{'financing': '-0.0026', 'units': '-50000.0', 'realizedPL': '26.3381', 'tradeID': '502'}]} \n",
      "\n"
     ]
    },
    {
     "data": {
      "text/plain": [
       "'Finished.'"
      ]
     },
     "execution_count": 56,
     "metadata": {},
     "output_type": "execute_result"
    }
   ],
   "source": [
    "mt = MT.MomentumTrader(momentum=6, instrument='EUR_USD',\n",
    "                       units=50000)\n",
    "mt.start()"
   ]
  },
  {
   "cell_type": "markdown",
   "metadata": {},
   "source": [
    "### Retrieving Account Information"
   ]
  },
  {
   "cell_type": "code",
   "execution_count": 57,
   "metadata": {
    "collapsed": false
   },
   "outputs": [],
   "source": [
    "response = ctx.account.summary(account_id)"
   ]
  },
  {
   "cell_type": "code",
   "execution_count": 58,
   "metadata": {
    "collapsed": true
   },
   "outputs": [],
   "source": [
    "acc_summary = response.get('account')"
   ]
  },
  {
   "cell_type": "code",
   "execution_count": 59,
   "metadata": {
    "collapsed": false
   },
   "outputs": [
    {
     "data": {
      "text/plain": [
       "{'NAV': '98599.2235',\n",
       " 'alias': 'Primary',\n",
       " 'balance': '98599.2235',\n",
       " 'createdByUserID': 5516121,\n",
       " 'createdTime': '2017-03-08T16:28:21.276100637Z',\n",
       " 'currency': 'EUR',\n",
       " 'hedgingEnabled': False,\n",
       " 'id': '101-004-5516121-001',\n",
       " 'lastTransactionID': '504',\n",
       " 'marginAvailable': '98599.2235',\n",
       " 'marginCallMarginUsed': '0.0',\n",
       " 'marginCallPercent': '0.0',\n",
       " 'marginCloseoutMarginUsed': '0.0',\n",
       " 'marginCloseoutNAV': '98599.2235',\n",
       " 'marginCloseoutPercent': '0.0',\n",
       " 'marginCloseoutUnrealizedPL': '0.0',\n",
       " 'marginRate': '0.02',\n",
       " 'marginUsed': '0.0',\n",
       " 'openPositionCount': 0,\n",
       " 'openTradeCount': 0,\n",
       " 'pendingOrderCount': 0,\n",
       " 'pl': '-1400.4954',\n",
       " 'positionValue': '0.0',\n",
       " 'unrealizedPL': '0.0',\n",
       " 'withdrawalLimit': '98599.2235'}"
      ]
     },
     "execution_count": 59,
     "metadata": {},
     "output_type": "execute_result"
    }
   ],
   "source": [
    "acc_summary.dict()"
   ]
  },
  {
   "cell_type": "code",
   "execution_count": 60,
   "metadata": {
    "collapsed": true
   },
   "outputs": [],
   "source": [
    "response = ctx.account.get(account_id)"
   ]
  },
  {
   "cell_type": "code",
   "execution_count": 61,
   "metadata": {
    "collapsed": true
   },
   "outputs": [],
   "source": [
    "acc_full = response.get('account')"
   ]
  },
  {
   "cell_type": "code",
   "execution_count": 62,
   "metadata": {
    "collapsed": false
   },
   "outputs": [
    {
     "data": {
      "text/plain": [
       "{'NAV': '98599.2235',\n",
       " 'alias': 'Primary',\n",
       " 'balance': '98599.2235',\n",
       " 'createdByUserID': 5516121,\n",
       " 'createdTime': '2017-03-08T16:28:21.276100637Z',\n",
       " 'currency': 'EUR',\n",
       " 'hedgingEnabled': False,\n",
       " 'id': '101-004-5516121-001',\n",
       " 'lastTransactionID': '504',\n",
       " 'marginAvailable': '98599.2235',\n",
       " 'marginCallMarginUsed': '0.0',\n",
       " 'marginCallPercent': '0.0',\n",
       " 'marginCloseoutMarginUsed': '0.0',\n",
       " 'marginCloseoutNAV': '98599.2235',\n",
       " 'marginCloseoutPercent': '0.0',\n",
       " 'marginCloseoutUnrealizedPL': '0.0',\n",
       " 'marginRate': '0.02',\n",
       " 'marginUsed': '0.0',\n",
       " 'openPositionCount': 0,\n",
       " 'openTradeCount': 0,\n",
       " 'orders': [],\n",
       " 'pendingOrderCount': 0,\n",
       " 'pl': '-1400.4954',\n",
       " 'positionValue': '0.0',\n",
       " 'positions': [{'instrument': 'EUR_USD',\n",
       "   'long': {'pl': '-311.4343',\n",
       "    'resettablePL': '-311.4343',\n",
       "    'units': '0.0',\n",
       "    'unrealizedPL': '0.0'},\n",
       "   'pl': '-556.4954',\n",
       "   'resettablePL': '-556.4954',\n",
       "   'short': {'pl': '-245.0611',\n",
       "    'resettablePL': '-245.0611',\n",
       "    'units': '0.0',\n",
       "    'unrealizedPL': '0.0'},\n",
       "   'unrealizedPL': '0.0'},\n",
       "  {'instrument': 'DE30_EUR',\n",
       "   'long': {'pl': '-417.0',\n",
       "    'resettablePL': '-417.0',\n",
       "    'units': '0.0',\n",
       "    'unrealizedPL': '0.0'},\n",
       "   'pl': '-844.0',\n",
       "   'resettablePL': '-844.0',\n",
       "   'short': {'pl': '-427.0',\n",
       "    'resettablePL': '-427.0',\n",
       "    'units': '0.0',\n",
       "    'unrealizedPL': '0.0'},\n",
       "   'unrealizedPL': '0.0'}],\n",
       " 'trades': [],\n",
       " 'unrealizedPL': '0.0',\n",
       " 'withdrawalLimit': '98599.2235'}"
      ]
     },
     "execution_count": 62,
     "metadata": {},
     "output_type": "execute_result"
    }
   ],
   "source": [
    "acc_full.dict()"
   ]
  },
  {
   "cell_type": "raw",
   "metadata": {},
   "source": [
    "ctx.transaction.since?"
   ]
  },
  {
   "cell_type": "code",
   "execution_count": 73,
   "metadata": {
    "collapsed": true
   },
   "outputs": [],
   "source": [
    "response = ctx.transaction.since(account_id, id=497)"
   ]
  },
  {
   "cell_type": "code",
   "execution_count": 74,
   "metadata": {
    "collapsed": true
   },
   "outputs": [],
   "source": [
    "transactions = response.get('transactions')"
   ]
  },
  {
   "cell_type": "code",
   "execution_count": 75,
   "metadata": {
    "collapsed": false
   },
   "outputs": [
    {
     "name": "stdout",
     "output_type": "stream",
     "text": [
      "\n",
      " {'pl': '-3.7651', 'instrument': 'EUR_USD', 'units': '100000.0', 'tradeOpened': {'units': '50000.0', 'tradeID': '498'}, 'type': 'ORDER_FILL', 'userID': 5516121, 'financing': '0.0', 'id': '498', 'accountBalance': '98587.9497', 'orderID': '497', 'batchID': '497', 'price': '1.0625', 'reason': 'MARKET_ORDER', 'accountID': '101-004-5516121-001', 'time': '2017-03-15T09:55:00.232549066Z', 'tradesClosed': [{'financing': '0.0', 'units': '50000.0', 'realizedPL': '-3.7651', 'tradeID': '496'}]}\n",
      "\n",
      " {'userID': 5516121, 'units': '-100000.0', 'timeInForce': 'FOK', 'positionFill': 'DEFAULT', 'type': 'MARKET_ORDER', 'batchID': '499', 'accountID': '101-004-5516121-001', 'id': '499', 'reason': 'CLIENT_ORDER', 'instrument': 'EUR_USD', 'time': '2017-03-15T09:55:09.045056353Z'}\n",
      "\n",
      " {'pl': '-9.4135', 'instrument': 'EUR_USD', 'units': '-100000.0', 'tradeOpened': {'units': '-50000.0', 'tradeID': '500'}, 'type': 'ORDER_FILL', 'userID': 5516121, 'financing': '-0.0001', 'id': '500', 'accountBalance': '98578.5361', 'orderID': '499', 'batchID': '499', 'price': '1.0623', 'reason': 'MARKET_ORDER', 'accountID': '101-004-5516121-001', 'time': '2017-03-15T09:55:09.045056353Z', 'tradesClosed': [{'financing': '-0.0001', 'units': '-50000.0', 'realizedPL': '-9.4135', 'tradeID': '498'}]}\n",
      "\n",
      " {'userID': 5516121, 'units': '100000.0', 'timeInForce': 'FOK', 'positionFill': 'DEFAULT', 'type': 'MARKET_ORDER', 'batchID': '501', 'accountID': '101-004-5516121-001', 'id': '501', 'reason': 'CLIENT_ORDER', 'instrument': 'EUR_USD', 'time': '2017-03-15T09:55:11.251494245Z'}\n",
      "\n",
      " {'pl': '-5.6481', 'instrument': 'EUR_USD', 'units': '100000.0', 'tradeOpened': {'units': '50000.0', 'tradeID': '502'}, 'type': 'ORDER_FILL', 'userID': 5516121, 'financing': '0.0', 'id': '502', 'accountBalance': '98572.888', 'orderID': '501', 'batchID': '501', 'price': '1.06242', 'reason': 'MARKET_ORDER', 'accountID': '101-004-5516121-001', 'time': '2017-03-15T09:55:11.251494245Z', 'tradesClosed': [{'financing': '0.0', 'units': '50000.0', 'realizedPL': '-5.6481', 'tradeID': '500'}]}\n",
      "\n",
      " {'userID': 5516121, 'units': '-50000.0', 'timeInForce': 'FOK', 'positionFill': 'DEFAULT', 'type': 'MARKET_ORDER', 'batchID': '503', 'accountID': '101-004-5516121-001', 'id': '503', 'reason': 'CLIENT_ORDER', 'instrument': 'EUR_USD', 'time': '2017-03-15T09:59:16.758814672Z'}\n",
      "\n",
      " {'pl': '26.3381', 'instrument': 'EUR_USD', 'units': '-50000.0', 'type': 'ORDER_FILL', 'userID': 5516121, 'financing': '-0.0026', 'id': '504', 'accountBalance': '98599.2235', 'orderID': '503', 'batchID': '503', 'price': '1.06298', 'reason': 'MARKET_ORDER', 'accountID': '101-004-5516121-001', 'time': '2017-03-15T09:59:16.758814672Z', 'tradesClosed': [{'financing': '-0.0026', 'units': '-50000.0', 'realizedPL': '26.3381', 'tradeID': '502'}]}\n"
     ]
    }
   ],
   "source": [
    "for transaction in transactions:\n",
    "    print('\\n', transaction.dict())"
   ]
  },
  {
   "cell_type": "code",
   "execution_count": 72,
   "metadata": {
    "collapsed": false
   },
   "outputs": [
    {
     "name": "stdout",
     "output_type": "stream",
     "text": [
      "2017-03-15T09:54:52.780004165Z |        EUR_USD |    -100000.0\n",
      "2017-03-15T09:55:00.232549066Z |        EUR_USD |     100000.0\n",
      "2017-03-15T09:55:00.232549066Z |        EUR_USD |     100000.0\n",
      "2017-03-15T09:55:09.045056353Z |        EUR_USD |    -100000.0\n",
      "2017-03-15T09:55:09.045056353Z |        EUR_USD |    -100000.0\n",
      "2017-03-15T09:55:11.251494245Z |        EUR_USD |     100000.0\n",
      "2017-03-15T09:55:11.251494245Z |        EUR_USD |     100000.0\n",
      "2017-03-15T09:59:16.758814672Z |        EUR_USD |     -50000.0\n",
      "2017-03-15T09:59:16.758814672Z |        EUR_USD |     -50000.0\n"
     ]
    }
   ],
   "source": [
    "for trans in transactions:\n",
    "    trans = trans.dict()\n",
    "    templ = '%s | %14s | %12s'\n",
    "    print(templ % (trans['time'],\n",
    "                   trans['instrument'],\n",
    "                   trans['units']))"
   ]
  },
  {
   "cell_type": "markdown",
   "metadata": {},
   "source": [
    "<img src=\"http://hilpisch.com/tpq_logo.png\" alt=\"The Python Quants\" width=\"35%\" align=\"right\" border=\"0\"><br>\n",
    "\n",
    "<a href=\"http://tpq.io\" target=\"_blank\">http://tpq.io</a> | <a href=\"http://twitter.com/dyjh\" target=\"_blank\">@dyjh</a> | <a href=\"mailto:training@tpq.io\">training@tpq.io</a>\n",
    "\n",
    "**Python Quant Platform** |\n",
    "<a href=\"http://quant-platform.com\">http://quant-platform.com</a>\n",
    "\n",
    "**Python for Finance** |\n",
    "<a href=\"http://python-for-finance.com\" target=\"_blank\">Python for Finance @ O'Reilly</a>\n",
    "\n",
    "**Derivatives Analytics with Python** |\n",
    "<a href=\"http://derivatives-analytics-with-python.com\" target=\"_blank\">Derivatives Analytics @ Wiley Finance</a>\n",
    "\n",
    "**Listed Volatility and Variance Derivatives** |\n",
    "<a href=\"http://lvvd.tpq.io\" target=\"_blank\">Listed VV Derivatives @ Wiley Finance</a>\n",
    "\n",
    "**Python Training** |\n",
    "<a href=\"http://training.tpq.io\" target=\"_blank\">Python for Finance University Certificate</a>"
   ]
  }
 ],
 "metadata": {
  "anaconda-cloud": {},
  "kernelspec": {
   "display_name": "Python [conda env:py3]",
   "language": "python",
   "name": "conda-env-py3-py"
  },
  "language_info": {
   "codemirror_mode": {
    "name": "ipython",
    "version": 3
   },
   "file_extension": ".py",
   "mimetype": "text/x-python",
   "name": "python",
   "nbconvert_exporter": "python",
   "pygments_lexer": "ipython3",
   "version": "3.5.2"
  }
 },
 "nbformat": 4,
 "nbformat_minor": 1
}
